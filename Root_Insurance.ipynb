{
  "nbformat": 4,
  "nbformat_minor": 0,
  "metadata": {
    "colab": {
      "name": "Root Insurance.ipynb",
      "provenance": [],
      "collapsed_sections": [
        "MQU8rMlRxvEv",
        "uANEA4cUxyoS"
      ],
      "toc_visible": true,
      "authorship_tag": "ABX9TyMGLFThxHPsRoM1JY+SmE5x",
      "include_colab_link": true
    },
    "kernelspec": {
      "name": "python3",
      "display_name": "Python 3"
    }
  },
  "cells": [
    {
      "cell_type": "markdown",
      "metadata": {
        "id": "view-in-github",
        "colab_type": "text"
      },
      "source": [
        "<a href=\"https://colab.research.google.com/github/bpblakely/Networking_Class/blob/main/Root_Insurance.ipynb\" target=\"_parent\"><img src=\"https://colab.research.google.com/assets/colab-badge.svg\" alt=\"Open In Colab\"/></a>"
      ]
    },
    {
      "cell_type": "markdown",
      "metadata": {
        "id": "5ZfHbkBUXXlz"
      },
      "source": [
        "# Notes Before Reading"
      ]
    },
    {
      "cell_type": "markdown",
      "metadata": {
        "id": "Ut0z8uWzXV3m"
      },
      "source": [
        "The order of information presentation does not exclude prior sections from involving work from a future section. Particullarly, in preprocessing we do some basic dimensionality reduction, which will get talked about in the dimensionality reduction section. Likwise decisions of preprocessing steps determined by data exploration."
      ]
    },
    {
      "cell_type": "markdown",
      "metadata": {
        "id": "nXz5HneRYOFL"
      },
      "source": [
        "Before we do anything, to get this code working well in a Google Colab notebook, lets read the data from Google Drive"
      ]
    },
    {
      "cell_type": "code",
      "metadata": {
        "id": "_osYoabVYo6P",
        "colab": {
          "base_uri": "https://localhost:8080/"
        },
        "outputId": "f902f415-2655-4e22-97fe-6e50ee1f3deb"
      },
      "source": [
        "from google.colab import drive as mountGoogleDrive \r\n",
        "mounted_drive_directory = '/content/mountedDrive'\r\n",
        "mountGoogleDrive.mount(mounted_drive_directory)"
      ],
      "execution_count": 1,
      "outputs": [
        {
          "output_type": "stream",
          "text": [
            "Mounted at /content/mountedDrive\n"
          ],
          "name": "stdout"
        }
      ]
    },
    {
      "cell_type": "markdown",
      "metadata": {
        "id": "HAZ2WZe9WYht"
      },
      "source": [
        "# **Preprocessing**\r\n",
        "\r\n",
        "I wrote the preprocessing code as a completely seperate python file, which is to expected to be used before analyzing the test data. If time permitted it, I would ideally condense this into a class which can quickly manipulate a single, or multiple files"
      ]
    },
    {
      "cell_type": "markdown",
      "metadata": {
        "id": "tPDLMirAZSie"
      },
      "source": [
        "##Algorithmic Complexity:    ![formula](https://render.githubusercontent.com/render/math?math=\\mathcal{O}(n))\r\n",
        "> *For reference, if rendering fails: O(n)*\r\n",
        "\r\n",
        "This is the complexity to preprocess one unzipped file. The actual preprocessing code attempts to unzip all data before use, this is for ease of use when parallelizing the code. \r\n"
      ]
    },
    {
      "cell_type": "markdown",
      "metadata": {
        "id": "3FE_PSKRgTsY"
      },
      "source": [
        "##Features of preprocessing\r\n",
        "\r\n",
        "\r\n",
        "*   Works given the work_sample directory\r\n",
        "*   Easily tune feature extraction parameters by changing a global variable\r\n",
        "*   Automatically unzips your data and renames the data folder, *if it's not already done*\r\n",
        "*   Finishes file processing in **a single for loop** (All other bulk processing is vectorized)\r\n",
        "*   **Runs in parallel**\r\n",
        "*   Importantly, you don't need to understand anything to use it, just give the directory and run the file\r\n"
      ]
    },
    {
      "cell_type": "markdown",
      "metadata": {
        "id": "5lYS1F23l3wk"
      },
      "source": [
        "## Code"
      ]
    },
    {
      "cell_type": "code",
      "metadata": {
        "id": "l394Ux9KcJTF",
        "colab": {
          "base_uri": "https://localhost:8080/"
        },
        "outputId": "ea425130-9e46-4e11-e457-a727062340be"
      },
      "source": [
        "import pandas as pd\r\n",
        "import numpy as np\r\n",
        "import zipfile\r\n",
        "import glob\r\n",
        "import os\r\n",
        "from multiprocessing import Pool\r\n",
        "import time\r\n",
        "\r\n",
        "# Global Variables\r\n",
        "directory = mounted_drive_directory + '/MyDrive/work_sample/' # data directory\r\n",
        "\r\n",
        "# Training or Test Data\r\n",
        "train_data = True # Set to False to run on test data\r\n",
        "\r\n",
        "# Feature parameters\r\n",
        "turning_threshold = 60 # angle theta\r\n",
        "turning_time_threshold = 120 # 120 seconds (2 minutes)\r\n",
        "sliding_window_time = 3 # amount of time (seconds) to consider for our sliding window averages\r\n",
        "stop_speed_threshold = .1 # less than .1 meters/second to be a stop\r\n",
        "\r\n",
        "# Simplify some variables to make the code easier to read and write\r\n",
        "def read_trip_data(filename):\r\n",
        "    # Input: filename (str) of trip data\r\n",
        "    # Output: DataFrame (with renamed columns)\r\n",
        "    return pd.read_csv(filename).rename({'time_seconds':'time','speed_meters_per_second':'speed','heading_degrees':'bearing'},axis=1)\r\n",
        "\r\n",
        "# Feature extraction has complexity O(n)\r\n",
        "def feature_extraction(df):\r\n",
        "    # Input: Dataframe of trip data, which was read using read_trip_data (due to renaming columns)\r\n",
        "    # Output: turn_count (int) and stop_count (int)\r\n",
        "    \r\n",
        "    # Need to change the bearing to be relative to the closest angle between 2 angles: (to make angle 5 and 355 be 10 degress apart instead of 350)\r\n",
        "    df['relative_bearing'] = df.bearing.apply(lambda x: 360-x if x > 180 else x)\r\n",
        "\r\n",
        "    avg_theta = []\r\n",
        "    avg_speed = []\r\n",
        "    turns = 0\r\n",
        "    last_i = 0 # used to create a subset of data after we make a turn\r\n",
        "    list_index = 0 # another pointer for list to dataframe\r\n",
        "\r\n",
        "    # Need to iterate to build a sliding window\r\n",
        "    for i,x in enumerate(df.time):\r\n",
        "        # include the points own data and the last 2 seconds of data for a 3 second window\r\n",
        "        subset= df.loc[(df.time <= x) & (df.time > x - sliding_window_time)]\r\n",
        "        avg_theta.append(subset.relative_bearing.mean())\r\n",
        "        avg_speed.append(subset.speed.mean())\r\n",
        "        \r\n",
        "        # COMPUTE TURNS (in the same loop to save time)\r\n",
        "\r\n",
        "        # Create a subset containing all data points after the last turn was made AND within turning_time_threshold seconds (2 minutes)\r\n",
        "        turn_subset = df.iloc[last_i:i] \r\n",
        "        turn_subset = turn_subset.loc[turn_subset.time >= (x - turning_time_threshold)]\r\n",
        "        # Increasing turning_time_threshold will detetect slower, longer turns, whereas lowering will find quick, immediate turns\r\n",
        "\r\n",
        "        if turn_subset.first_valid_index():\r\n",
        "            list_index = turn_subset.first_valid_index() # need a new index to use to connect the correct index for dataframe with the index of the list we are building\r\n",
        "        \r\n",
        "        # Comparing avg_theta allows us to only consider the turns after being smoothed over 3 second intervals for better estimation\r\n",
        "        if any(abs(avg_theta[list_index:i]-df.iloc[i].relative_bearing) > turning_threshold):  \r\n",
        "            last_i = i\r\n",
        "            turns += 1 \r\n",
        "    \r\n",
        "    df['avg_bearing'] = avg_theta\r\n",
        "    df['avg_speed'] = avg_speed\r\n",
        "    \r\n",
        "    # COMPUTE STOPS\r\n",
        "    stops = 0\r\n",
        "    idx = df.index[df.avg_speed < stop_speed_threshold]\r\n",
        "    if len(idx) > 0:\r\n",
        "        stops += 1 # at least 1 so far\r\n",
        "        diffs = np.diff(idx) # compute distances between each index, to find where we have no consecutive indicies, which indicate a different stop\r\n",
        "          # An advantage to this approach is that we can consider any amount of non-consecutive points before we break a chain of stops.\r\n",
        "            # (change 'diffs > 1' to any number)\r\n",
        "        unique_indx = np.argwhere(diffs > 1).ravel()\r\n",
        "        stops += len(unique_indx)\r\n",
        "    \r\n",
        "    return turns,stops\r\n",
        "\r\n",
        "def process_parallel(filename):\r\n",
        "    # Input: filename of trip data\r\n",
        "    # Output: (filename, # turns, # stops) (as a Tuple)\r\n",
        "    df = read_trip_data(filename).dropna() # Might miss some stops due to dropping NA immediately\r\n",
        "    df.reset_index(drop=True,inplace=True)\r\n",
        "    turns, stops = feature_extraction(df)\r\n",
        "    return filename.split('\\\\')[-1], turns, stops # create a reference of filename to extracted features to be safe\r\n",
        "    \r\n",
        "if __name__ == \"__main__\":\r\n",
        "    # used for path building so we can use the same code to easily preprocess both test and training data\r\n",
        "    if train_data:\r\n",
        "        text = 'train'\r\n",
        "        folder_name = \"trip_data\"\r\n",
        "    else: \r\n",
        "        text = 'test'\r\n",
        "        folder_name = \"work_sample_test_trips\"\r\n",
        "        \r\n",
        "    # extract the data from the zip file and rename if you havent\r\n",
        "    if not os.path.isdir(directory+'trip_data_' + text):\r\n",
        "        if os.path.isdir(directory+'trip_data'):\r\n",
        "            os.rename(directory+'trip_data',directory+'trip_data_' + text) # if its extracted and not renamed, just rename it\r\n",
        "        else:\r\n",
        "            with zipfile.ZipFile(directory + \"trip_data_\"+text+\".zip\", \"r\") as zipObj:\r\n",
        "                zipObj.extractall(directory)\r\n",
        "            if os.path.isdir(directory+folder_name):\r\n",
        "                os.rename(directory + folder_name,directory+'trip_data_'+text)\r\n",
        "            else:\r\n",
        "                raise ValueError(\"Incorrect Data Path or corrupted zip file, could not find extracted trip_data folder\")\r\n",
        "            \r\n",
        "    files = [file for file in glob.glob(directory+'trip_data_'+ text +'/*.csv')]\r\n",
        "    \r\n",
        "    # process in parallel\r\n",
        "    start_time = time.time()\r\n",
        "    with Pool() as pool:\r\n",
        "        results = pool.map(process_parallel,files)\r\n",
        "    print(f\"Time to preprocess in parallel {len(files)} files: {time.time() - start_time} seconds\")\r\n",
        "\r\n",
        "    results = pd.DataFrame(results,columns = ['filename','turns', 'stops'])\r\n",
        "    model_df = pd.read_csv(directory + 'model_data_'+ text +'.csv')\r\n",
        "    model_df = model_df.merge(results, on=['filename'])\r\n",
        "    \r\n",
        "    if train_data:\r\n",
        "    # put the y variable as the last column for clarity\r\n",
        "        cols = list(model_df.columns)\r\n",
        "        cols.insert(len(cols), cols.pop(cols.index('y')))\r\n",
        "        model_df = model_df.loc[:, cols]\r\n",
        "        del cols\r\n",
        "    \r\n",
        "    model_df.to_csv(directory + 'model_data_'+ text +'_modified.csv',index=False)\r\n",
        "    \r\n",
        "    # process in serial for time comparison\r\n",
        "    start_time = time.time()\r\n",
        "    results = [process_parallel(file) for file in files]\r\n",
        "    print(f\"Time to preprocess in serial {len(files)} files: {time.time() - start_time} seconds\")\r\n",
        "    # Done at the end so I don't have to wait 100 years to continue"
      ],
      "execution_count": null,
      "outputs": [
        {
          "output_type": "stream",
          "text": [
            "Time to preprocess in parallel 1000 files: 823.7210640907288 seconds\n",
            "Time to preprocess in serial 1000 files: 965.6807601451874 seconds\n"
          ],
          "name": "stdout"
        }
      ]
    },
    {
      "cell_type": "markdown",
      "metadata": {
        "id": "jTUDLKLu9b0g"
      },
      "source": [
        "**Note** \r\n",
        "\r\n",
        "Google Colab notebooks only have 4 cores so the difference isn't extreme. However, on my local computer (16 cores) this code finish in 1 minute instead of 16 minutes\r\n",
        "\r\n",
        "![](https://i.imgur.com/qQyvSom.png)"
      ]
    },
    {
      "cell_type": "markdown",
      "metadata": {
        "id": "A1qYxzu4bhyw"
      },
      "source": [
        "## Parallelization of Preprocessing\r\n",
        "\r\n",
        "The preprocessing of all the files is done in parallel. This is because it's  designed with scalability in mind. This code can easily be executed on a cloud server or cluster of hundreds of CPUs and finish executing in milliseconds.\r\n",
        "\r\n",
        "---\r\n",
        "\r\n",
        "In order to fit everything into one for loop, I had to build a more complex solution, which does impact the readability of the code. I could make this much easier to read where the complexity becomes O(2n).\r\n",
        "\r\n",
        "Most of the code in the preprocessing will be explained later in data exploration and feature creation."
      ]
    },
    {
      "cell_type": "markdown",
      "metadata": {
        "id": "5SMZUi_TuQUu"
      },
      "source": [
        "**Note**\r\n",
        "\r\n",
        "I don't have time to elaborate on every decision made and their computation implications (such when vectorization is used and why or computation of distance index vectors and why it's being used). Hopefully my comments in the code are enough to understand, but if not then they make for great talking points in an interview"
      ]
    },
    {
      "cell_type": "markdown",
      "metadata": {
        "id": "R-OnQmePWZK1"
      },
      "source": [
        "# **Data Exploration**\r\n",
        "\r\n",
        "This section is going to be very involved with the Feature Creation section. Most of this code was written before the data extraction code, thus some different preprocessing steps will be done to show my thoughts that lead my decisions."
      ]
    },
    {
      "cell_type": "markdown",
      "metadata": {
        "id": "kFAQda3BjEle"
      },
      "source": [
        "**Disclaimer**: When using pandas, I am fully aware to that when you create a new column you should use pandas.DataFrame.assign(column_name = data).\r\n",
        "\r\n",
        "However, since I am also being evaluated on readability, I decided to stick with simple, easy to read syntax ([which isn't always the best thing to do](https://www.dataquest.io/blog/settingwithcopywarning/). "
      ]
    },
    {
      "cell_type": "markdown",
      "metadata": {
        "id": "Jz-hecFQkcYv"
      },
      "source": [
        "## Simple Plot of Vehicle Movement"
      ]
    },
    {
      "cell_type": "code",
      "metadata": {
        "id": "kK2HPQFieJQj",
        "colab": {
          "base_uri": "https://localhost:8080/",
          "height": 295
        },
        "outputId": "22db5ef4-5fe9-4410-9615-65510c8c73f7"
      },
      "source": [
        "import matplotlib.pyplot as plt\r\n",
        "import math\r\n",
        "df = read_trip_data(r'/content/mountedDrive/MyDrive/work_sample/trip_data_train/0001.csv').dropna()\r\n",
        "df.reset_index(drop=True,inplace=True)\r\n",
        "\r\n",
        "dist_traveled = [0]  # distance traveled (in meters) from the last time point\r\n",
        "\r\n",
        "for i in range(1,len(df)):\r\n",
        "    # lets use the average of the 2 time points as the true speed between each second in the time series\r\n",
        "    t = abs(df.iloc[i].time - df.iloc[i-1].time) # difference in time\r\n",
        "    s = (df.iloc[i].speed + df.iloc[i-1].speed)/2 # average speed\r\n",
        "\r\n",
        "    dist_traveled.append(t*s)\r\n",
        "    \r\n",
        "df['distance'] = dist_traveled\r\n",
        "#df = df.assign(df = df['distance'].cumsum()) # distance is in meters\r\n",
        "\r\n",
        "df['x'] = (df.bearing.apply(lambda x: math.cos(math.radians(x))) * df.distance).cumsum()\r\n",
        "df['y'] = (df.bearing.apply(lambda x: math.sin(math.radians(x))) * df.distance).cumsum()\r\n",
        "\r\n",
        "\r\n",
        "df.reset_index(drop=True,inplace=True)\r\n",
        "\r\n",
        "plt.plot(df.x,df.y)\r\n",
        "# It's not really lat and long, but is easily described using the same idea\r\n",
        "plt.xlabel('Longitude') \r\n",
        "plt.ylabel('Latitude')\r\n",
        "plt.title('Vehicle Movement During Trip')\r\n",
        "plt.show()"
      ],
      "execution_count": null,
      "outputs": [
        {
          "output_type": "display_data",
          "data": {
            "image/png": "[encoded data removed]",
            "text/plain": [
              "<Figure size 432x288 with 1 Axes>"
            ]
          },
          "metadata": {
            "tags": [],
            "needs_background": "light"
          }
        }
      ]
    },
    {
      "cell_type": "markdown",
      "metadata": {
        "id": "Z98U7khzm4kb"
      },
      "source": [
        "## Relative Bearing Caveat\r\n",
        "\r\n",
        "You can see in the data that the bearing ranges from [0,360)"
      ]
    },
    {
      "cell_type": "code",
      "metadata": {
        "id": "jfeKbO-Dnijs",
        "colab": {
          "base_uri": "https://localhost:8080/"
        },
        "outputId": "5432b2d3-d0bb-4ea4-862a-6000c6bd2346"
      },
      "source": [
        "df.bearing.describe()"
      ],
      "execution_count": null,
      "outputs": [
        {
          "output_type": "execute_result",
          "data": {
            "text/plain": [
              "count    625.000000\n",
              "mean      91.468704\n",
              "std       60.309695\n",
              "min        0.028219\n",
              "25%       55.450955\n",
              "50%       79.534608\n",
              "75%       95.358634\n",
              "max      356.250950\n",
              "Name: bearing, dtype: float64"
            ]
          },
          "metadata": {
            "tags": []
          },
          "execution_count": 17
        }
      ]
    },
    {
      "cell_type": "markdown",
      "metadata": {
        "id": "GjB5TJNcnmoO"
      },
      "source": [
        "**This is problematic for computing a turn!**\r\n",
        "\r\n",
        "![](https://i.imgur.com/MXiiRWS.png)\r\n",
        "\r\n",
        "\r\n",
        "When comparing $5 \\theta$ and $355 \\theta$, we should only have turned 10 degrees, not 350! \r\n",
        "\r\n",
        "---\r\n",
        "\r\n",
        "**Solution**\r\n",
        "\r\n",
        "In order to solve this problem, we need to create a *relative bearing*, where the values range from [0,180]. \r\n",
        "\r\n",
        "This is angle of shortest path relative to the origin, which is what we will use to calculate turns"
      ]
    },
    {
      "cell_type": "code",
      "metadata": {
        "id": "CAKUXbFwttoY"
      },
      "source": [
        "df['relative_bearing'] = df.bearing.apply(lambda x: 360-x if x > 180 else x)"
      ],
      "execution_count": null,
      "outputs": []
    },
    {
      "cell_type": "markdown",
      "metadata": {
        "id": "DQplsWb3uoGo"
      },
      "source": [
        "## More Plots\r\n",
        "\r\n",
        "First we need to do **a lot** of work to get this data into a beautiful plot\r\n"
      ]
    },
    {
      "cell_type": "markdown",
      "metadata": {
        "id": "hNMODb5W-yjl"
      },
      "source": [
        "### Step 0: Reprocess the data \r\n",
        "\r\n",
        "Reprocess the data so we can actually access important computed data"
      ]
    },
    {
      "cell_type": "code",
      "metadata": {
        "id": "b5KKEvq_-yIj"
      },
      "source": [
        "df['relative_bearing'] = df.bearing.apply(lambda x: 360-x if x > 180 else x)\r\n",
        "\r\n",
        "avg_theta = []\r\n",
        "avg_speed = []\r\n",
        "turns = []\r\n",
        "last_i = 0 # used to create a subset of data after we make a turn\r\n",
        "list_index = 0 # another pointer for list to dataframe\r\n",
        "\r\n",
        "# Need to iterate to build a sliding window\r\n",
        "for i,x in enumerate(df.time):\r\n",
        "    # include the points own data and the last 2 seconds of data for a 3 second window\r\n",
        "    subset= df.loc[(df.time <= x) & (df.time > x - sliding_window_time)]\r\n",
        "    avg_theta.append(subset.relative_bearing.mean())\r\n",
        "    avg_speed.append(subset.speed.mean())\r\n",
        "    \r\n",
        "    # compute turns in the same loop to save time\r\n",
        "\r\n",
        "    # Create a subset containing all data points after the last turn was made AND within turning_time_threshold seconds (2 minutes)\r\n",
        "    turn_subset = df.iloc[last_i:i] \r\n",
        "    turn_subset = turn_subset.loc[turn_subset.time >= (x - turning_time_threshold)]\r\n",
        "    # Increasing turning_time_threshold will detetect slower, longer turns, whereas lowering will find quick, immediate turns\r\n",
        "\r\n",
        "    if turn_subset.first_valid_index():\r\n",
        "        list_index = turn_subset.first_valid_index() # need a new index to use to connect the correct index for dataframe with the index of the list we are building\r\n",
        "    \r\n",
        "    # Comparing avg_theta allows us to only consider the turns after being smoothed over 3 second intervals for better estimation\r\n",
        "    if any(abs(avg_theta[list_index:i]-df.iloc[i].relative_bearing) > turning_threshold):  \r\n",
        "        last_i = i\r\n",
        "        turns.append(last_i)\r\n",
        "# A Turn is defined as: When the avg relative angle in the last 3 seconds exceeds any previous relative angle after the last turn was made\r\n",
        "# This will catch things such as very slow turns (and can misclassify in certain cases)\r\n",
        "# This is being used because it is very fast to compute and is a fairly strong solution, despite not being the best\r\n",
        "\r\n",
        "df['avg_bearing'] = avg_theta\r\n",
        "df['avg_speed'] = avg_speed\r\n",
        "\r\n",
        "stops = 0\r\n",
        "idx = df.index[df.avg_speed < .1]\r\n",
        "if len(idx) > 0:\r\n",
        "    stops += 1 # at least 1 so far\r\n",
        "    diffs = np.diff(idx) # compute distances between each index, to find where we have no consecutive indicies, which indicate a different stop\r\n",
        "      # An advantage to this approach is that we can consider any amount of non-consecutive points before we break a chain of stops.\r\n",
        "        # (change 'diffs > 1' to any number)\r\n",
        "    unique_indx = np.argwhere(diffs > 1).ravel()\r\n",
        "    stops += len(unique_indx)"
      ],
      "execution_count": null,
      "outputs": []
    },
    {
      "cell_type": "markdown",
      "metadata": {
        "id": "gOWRr8nw-0aO"
      },
      "source": [
        "### Step 1: Turn Indexing \r\n",
        "\r\n",
        "Let's start by adding a column to our dataframe which indicates if a timepoint was attributed a turn"
      ]
    },
    {
      "cell_type": "code",
      "metadata": {
        "id": "mSUPlfxjvdP2"
      },
      "source": [
        "t = []\r\n",
        "for i in range(len(df)):\r\n",
        "    if i in turns:\r\n",
        "        t.append(True)\r\n",
        "    else:\r\n",
        "        t.append(False)\r\n",
        "df['turn'] = t"
      ],
      "execution_count": null,
      "outputs": []
    },
    {
      "cell_type": "markdown",
      "metadata": {
        "id": "Q5wV40Cmvewk"
      },
      "source": [
        "### Step 3: Color Mapping\r\n",
        "\r\n",
        "Next let's create a color mapping for speed. This way we can simply color the line to show the speed, which lets us easily display 3 dimensions in only 2."
      ]
    },
    {
      "cell_type": "code",
      "metadata": {
        "id": "mkNpAJS5v2ZR"
      },
      "source": [
        "colors=[]\r\n",
        "for x in df.avg_speed:\r\n",
        "    if x < .1: colors.append('black')\r\n",
        "    elif x < 5: colors.append('firebrick')\r\n",
        "    elif x < 10: colors.append('gold')\r\n",
        "    elif x < 15: colors.append('forestgreen')\r\n",
        "    elif x < 25: colors.append('royalblue')\r\n",
        "    else: colors.append('navy')\r\n",
        "df['color'] = colors"
      ],
      "execution_count": null,
      "outputs": []
    },
    {
      "cell_type": "markdown",
      "metadata": {
        "id": "-alvAldxv3FQ"
      },
      "source": [
        "### Step 4: Create Continuous Segmentation\r\n",
        "\r\n",
        "Next we do some magic to create a continuous graph of different colored line segments"
      ]
    },
    {
      "cell_type": "code",
      "metadata": {
        "id": "OT7ZJb0ewYyI"
      },
      "source": [
        "myf = df.copy()\r\n",
        "myf['change'] = myf.color.ne(myf.color.shift().bfill()).astype(int)\r\n",
        "myf['subgroup'] = myf['change'].cumsum()\r\n",
        "myf.index += myf['subgroup'].values\r\n",
        "\r\n",
        "first_i_of_each_group = myf[myf['change'] == 1].index\r\n",
        "for i in first_i_of_each_group:\r\n",
        "    myf.loc[i-1] = myf.loc[i]\r\n",
        "    myf.loc[i-1, 'subgroup'] = myf.loc[i-2, 'subgroup']\r\n",
        "myf.drop('change', axis=1, inplace=True)\r\n",
        "myf.sort_index(inplace=True)\r\n",
        "\r\n",
        "# Create duplicate indexes at each subgroup border to ensure the plot is continuous.\r\n",
        "myf.index -= myf['subgroup'].values"
      ],
      "execution_count": null,
      "outputs": []
    },
    {
      "cell_type": "markdown",
      "metadata": {
        "id": "SQK4meomwsbY"
      },
      "source": [
        "### Step 5: **The Plot!**"
      ]
    },
    {
      "cell_type": "code",
      "metadata": {
        "colab": {
          "base_uri": "https://localhost:8080/",
          "height": 295
        },
        "id": "oaAi0Usmw_f8",
        "outputId": "4fa9284b-2df5-4cf4-9e56-6db0a8d24760"
      },
      "source": [
        "import matplotlib\r\n",
        "import matplotlib.lines as mlines\r\n",
        "bounds = [0, .1, 5, 10, 15, 25, df.speed.max()] # boundries for color bar\r\n",
        "fig, ax = plt.subplots()\r\n",
        "\r\n",
        "for k, g in myf.groupby('subgroup'):\r\n",
        "    g[['x','y']].plot(ax=ax,x='x', y='y', color=g['color'].values[0],legend=None)\r\n",
        "stop_df = myf.loc[myf.avg_speed < .1]\r\n",
        "\r\n",
        "# plot the turns with marker 'x'\r\n",
        "plt.scatter(myf.loc[myf.turn]['x'].values,myf.loc[myf.turn]['y'].values,s = 60,marker='x',c = myf.loc[myf.turn]['color'].values,label = 'turns')\r\n",
        "# plot stops with marker 'o'\r\n",
        "plt.scatter(stop_df['x'].values,stop_df['y'].values,s = 25,marker='o',c = stop_df['color'].values,label='stops')\r\n",
        "\r\n",
        "# need to do some weird stuff to get around pandas plotting flooding my legend (nothing else seemed to work)\r\n",
        "x_marker = mlines.Line2D([], [], marker='x', linestyle='None', markersize=10, label='turns')\r\n",
        "o_marker = mlines.Line2D([], [], marker='o', linestyle='None', markersize=10, label='stops')\r\n",
        "ax.legend(handles=[x_marker, o_marker])\r\n",
        "\r\n",
        "cmap = matplotlib.colors.ListedColormap(['black','firebrick','gold','forestgreen','royalblue','navy'])\r\n",
        "norm = matplotlib.colors.BoundaryNorm(bounds, cmap.N)\r\n",
        "\r\n",
        "sm = plt.cm.ScalarMappable(cmap=cmap, norm=norm)\r\n",
        "fig.colorbar(sm,ax=ax,boundaries= bounds,spacing='uniform',ticks=bounds,label='Speed in meters per second')\r\n",
        "\r\n",
        "plt.xlabel('Longitude')\r\n",
        "plt.ylabel('Latitude')\r\n",
        "plt.title('Vehicle Movement During Trip')\r\n",
        "\r\n",
        "plt.show()"
      ],
      "execution_count": null,
      "outputs": [
        {
          "output_type": "display_data",
          "data": {
            "image/png": "[encoded data removed]",
            "text/plain": [
              "<Figure size 432x288 with 2 Axes>"
            ]
          },
          "metadata": {
            "tags": [],
            "needs_background": "light"
          }
        }
      ]
    },
    {
      "cell_type": "markdown",
      "metadata": {
        "id": "ZmIC11LV_9BB"
      },
      "source": [
        "Just to make it easier to see (view image in new tab for higher resolution):\r\n",
        "\r\n",
        "![](https://i.imgur.com/HmGVXfk.png)"
      ]
    },
    {
      "cell_type": "markdown",
      "metadata": {
        "id": "4PYv7l4hxSo4"
      },
      "source": [
        "### Animating the plot\r\n",
        "\r\n",
        "We can easily animate this plot to make a gif of the data moving over time. This does take a fair amount of time to compute.\r\n",
        "\r\n",
        "This code is less important, it's more so just the cherry on top. See the misc code section at the end.\r\n",
        "\r\n",
        "---\r\n",
        "\r\n",
        "**First Animation**\r\n",
        "\r\n",
        "> This animation is the first animation I made, which animates the every single data point through the 0001.csv trip! This was my first animation, which was before I had the super nice looking color bar.\r\n",
        "\r\n",
        "> If I uploaded the gif plots, colab will remove them after the session ends. So the best I can do is provide an imgur link [here is the link](https://i.imgur.com/ljAQuL7.mp4)\r\n",
        "\r\n",
        "**Second Animation**\r\n",
        "\r\n",
        "> This animation was on the same file, but half as much data so the computation would finish faster. This animation has the updated legend and color bar. [Here is the link](https://i.imgur.com/eX0dXCQ.mp4)"
      ]
    },
    {
      "cell_type": "markdown",
      "metadata": {
        "id": "9pp7z2ZeeAi_"
      },
      "source": [
        "# **Feature Creation**"
      ]
    },
    {
      "cell_type": "markdown",
      "metadata": {
        "id": "7-fEZ8dA7osm"
      },
      "source": [
        "## Creating Events\r\n",
        "\r\n",
        "The problem statement says to consider timepoints within 3 seconds as one event.\r\n",
        "\r\n",
        "**Creating 3 second long Events**\r\n",
        "\r\n",
        "> We use a moving average which considers events within 3 seconds of the current timepoint. The **average speed** and **average bearing** is computed for each data point. \r\n",
        "\r\n",
        "These columns represent the event which each timepoint belongs to. These columns are used for computations with resepect to events.\r\n"
      ]
    },
    {
      "cell_type": "markdown",
      "metadata": {
        "id": "LOh0kXxg6iVa"
      },
      "source": [
        "## **Turning**\r\n",
        "\r\n",
        "The event of turning is an event which spans more than 3 seconds. Thus, we need to determine a turn on a collection of events.\r\n",
        "\r\n",
        "---\r\n",
        "\r\n",
        "Also notice that turns also happen at lower speeds, however I didn't want to make this part of turning criteria incase we overlook some dangerous fast turns.\r\n",
        "\r\n",
        "However, it would be easy to set a fast turn threshold which could create a third new feature that classifies a turn as dangerous "
      ]
    },
    {
      "cell_type": "markdown",
      "metadata": {
        "id": "Z4DzLJsgCVUV"
      },
      "source": [
        "### Computation of a Turn\r\n",
        "\r\n",
        "Consider a time point (a row of data), **x**, which has an average speed and average bearing.\r\n",
        "\r\n",
        "1. Select a subset of previous timepoints based on the criteria\r\n",
        "> Timepoints from **at most 2 minutes ago** *and* timepoints that happened **after the last turn**\r\n",
        "\r\n",
        "2. Compute the absolute difference of average bearing between x and the subset of timepoints average bearings\r\n",
        "\r\n",
        "3. If any of the differences > 60, then this timepoint x is a turn.\r\n",
        "\r\n",
        "4. Update the pointer, last_index, to the current index value (index of x)\r\n",
        "> This way we can correctly select our subset of data after turning\r\n",
        "\r\n"
      ]
    },
    {
      "cell_type": "markdown",
      "metadata": {
        "id": "Qfyyy1-8FqPD"
      },
      "source": [
        "### Explanation of Decisions Made\r\n",
        "\r\n",
        "The biggest question you might have is: *Why only consider timepoints after the last turn?*\r\n",
        "\r\n",
        "> Doing this let's us create a very fast and accurate computation. It gives a very accurate description of the **number of turns** in a trip.\r\n",
        "\r\n",
        "> We only care that a turn happened, so we don't want to consider all events which a turn was taking place nor do we really care about the exact time a turn happened. \r\n",
        "\r\n",
        "By only considering data after the last turn was made, we require the next turn to be at least 60 degrees different from the last turn. This lets us easily detect multiple sharp turns without misclassifying them.\r\n",
        "\r\n",
        " We also handle noisy data (a random bad value for 1 time point) since we are considering bearings which are an average of bearings over the last 3 seconds\r\n",
        "\r\n",
        " ---\r\n",
        "\r\n",
        " Code is built into the preprocessing code"
      ]
    },
    {
      "cell_type": "markdown",
      "metadata": {
        "id": "lVefAOVjID64"
      },
      "source": [
        "## **Stops**\r\n",
        "\r\n",
        "Stops are computed in a very simple, efficient manor."
      ]
    },
    {
      "cell_type": "markdown",
      "metadata": {
        "id": "dvHhhT5PIZu5"
      },
      "source": [
        "### Computation of a Stop\r\n",
        "\r\n",
        "1. Consider a subset of all events with average speed < .1 speed\r\n",
        "2. Count the number of non-consecutive indicies in the subset\r\n",
        "> So if we were stopped for x = 1,2,3 then we moved and stopped again on x= 8,9,10\r\n",
        "\r\n",
        "  > > Subset = [1,2,3,8,9,10]\r\n",
        "\r\n",
        "  > > We will have only stopped twice, since there are 2 non-consecutive indicies\r\n"
      ]
    },
    {
      "cell_type": "markdown",
      "metadata": {
        "id": "sttzhy4aK5Zc"
      },
      "source": [
        "### Explanation of Decisions Made\r\n",
        "\r\n",
        "This approach allows us to easily define a number of non-consecutive events to consider outside of our stopping speed threshold to conisder.\r\n",
        "\r\n",
        "To elaborate, if someone is in stop very slow stop and go traffic, moving 3 inches forward is basically the same as being stopped in the same spot. In that case we might want to consider 3 events where the speed is above the threshold before we decide it isnt a break.\r\n",
        "\r\n",
        "Example:\r\n",
        "\r\n",
        "> stopped x = [1,2,3,4], driving x= [5], stopped = [6,7,8,9,10]\r\n",
        "\r\n",
        "> subset = [1,2,3,4,6,7,8,9,10]\r\n",
        "\r\n",
        "With a window of 1 non-consecutive index to count as the same stop, we can classify this subset as 1 stop instead of 2 seperate stops\r\n",
        "\r\n",
        "---\r\n",
        "\r\n",
        "\r\n",
        "This code is also in the preprocessing code"
      ]
    },
    {
      "cell_type": "markdown",
      "metadata": {
        "id": "qaTJnIyuW55t"
      },
      "source": [
        "# Dimensionality Reduction"
      ]
    },
    {
      "cell_type": "markdown",
      "metadata": {
        "id": "ELUNgTxwLNh-"
      },
      "source": [
        "## Simple Analysis\r\n",
        "\r\n",
        "Let's first just take a generic look at our dataset and see if there is any obviously bad data"
      ]
    },
    {
      "cell_type": "code",
      "metadata": {
        "id": "2sIZvR7S2h_y"
      },
      "source": [
        "# First let's reinstance our Google Colab, so you don't need to run all previous code to run this code (no need to create features again)\r\n",
        "import pandas as pd\r\n",
        "import numpy as np\r\n",
        "# the rest will be used later\r\n",
        "from sklearn.ensemble import RandomForestClassifier\r\n",
        "from sklearn.model_selection import cross_val_score,train_test_split\r\n",
        "from sklearn.metrics import roc_auc_score,roc_curve\r\n",
        "from sklearn.preprocessing import StandardScaler\r\n",
        "from sklearn.metrics import confusion_matrix, classification_report\r\n",
        "from sklearn.metrics import accuracy_score\r\n",
        "import matplotlib.pyplot as plt\r\n",
        "import seaborn as sns\r\n",
        "sns.set_theme(style=\"whitegrid\")\r\n",
        "\r\n",
        "directory = mounted_drive_directory + '/MyDrive/work_sample/'"
      ],
      "execution_count": 60,
      "outputs": []
    },
    {
      "cell_type": "code",
      "metadata": {
        "colab": {
          "base_uri": "https://localhost:8080/",
          "height": 300
        },
        "id": "Z7I1rj35LLqC",
        "outputId": "f1a45eb1-a639-487d-b149-24145ba7fdbc"
      },
      "source": [
        "df = pd.read_csv(directory+ '/model_data_train_modified.csv')\r\n",
        "df.describe() "
      ],
      "execution_count": 14,
      "outputs": [
        {
          "output_type": "execute_result",
          "data": {
            "text/html": [
              "<div>\n",
              "<style scoped>\n",
              "    .dataframe tbody tr th:only-of-type {\n",
              "        vertical-align: middle;\n",
              "    }\n",
              "\n",
              "    .dataframe tbody tr th {\n",
              "        vertical-align: top;\n",
              "    }\n",
              "\n",
              "    .dataframe thead th {\n",
              "        text-align: right;\n",
              "    }\n",
              "</style>\n",
              "<table border=\"1\" class=\"dataframe\">\n",
              "  <thead>\n",
              "    <tr style=\"text-align: right;\">\n",
              "      <th></th>\n",
              "      <th>feature4</th>\n",
              "      <th>feature5</th>\n",
              "      <th>feature6</th>\n",
              "      <th>feature7</th>\n",
              "      <th>feature8</th>\n",
              "      <th>feature9</th>\n",
              "      <th>feature10</th>\n",
              "      <th>feature11</th>\n",
              "      <th>feature12</th>\n",
              "      <th>feature13</th>\n",
              "      <th>feature14</th>\n",
              "      <th>turns</th>\n",
              "      <th>stops</th>\n",
              "      <th>y</th>\n",
              "    </tr>\n",
              "  </thead>\n",
              "  <tbody>\n",
              "    <tr>\n",
              "      <th>count</th>\n",
              "      <td>1000.000000</td>\n",
              "      <td>1000.000000</td>\n",
              "      <td>1000.000000</td>\n",
              "      <td>1000.000000</td>\n",
              "      <td>1000.000000</td>\n",
              "      <td>1000.000000</td>\n",
              "      <td>1000.0</td>\n",
              "      <td>1.000000e+03</td>\n",
              "      <td>1.000000e+03</td>\n",
              "      <td>1.000000e+03</td>\n",
              "      <td>1000.000000</td>\n",
              "      <td>1000.000000</td>\n",
              "      <td>1000.000000</td>\n",
              "      <td>1000.000000</td>\n",
              "    </tr>\n",
              "    <tr>\n",
              "      <th>mean</th>\n",
              "      <td>4.984873</td>\n",
              "      <td>9977.840571</td>\n",
              "      <td>31346.310636</td>\n",
              "      <td>0.001000</td>\n",
              "      <td>4.974000</td>\n",
              "      <td>10.053000</td>\n",
              "      <td>1.0</td>\n",
              "      <td>8.861258e+08</td>\n",
              "      <td>8.845462e+03</td>\n",
              "      <td>8.861258e+08</td>\n",
              "      <td>4.976221</td>\n",
              "      <td>7.670000</td>\n",
              "      <td>4.763000</td>\n",
              "      <td>0.310000</td>\n",
              "    </tr>\n",
              "    <tr>\n",
              "      <th>std</th>\n",
              "      <td>0.997816</td>\n",
              "      <td>990.773528</td>\n",
              "      <td>3112.606836</td>\n",
              "      <td>0.000010</td>\n",
              "      <td>1.556839</td>\n",
              "      <td>3.015507</td>\n",
              "      <td>0.0</td>\n",
              "      <td>1.957633e+10</td>\n",
              "      <td>8.087624e+04</td>\n",
              "      <td>1.957633e+10</td>\n",
              "      <td>1.560448</td>\n",
              "      <td>4.255256</td>\n",
              "      <td>4.282893</td>\n",
              "      <td>0.462725</td>\n",
              "    </tr>\n",
              "    <tr>\n",
              "      <th>min</th>\n",
              "      <td>2.116270</td>\n",
              "      <td>7193.513346</td>\n",
              "      <td>22599.088680</td>\n",
              "      <td>0.000971</td>\n",
              "      <td>1.000000</td>\n",
              "      <td>2.000000</td>\n",
              "      <td>1.0</td>\n",
              "      <td>8.550778e-03</td>\n",
              "      <td>4.504803e-08</td>\n",
              "      <td>4.320016e+00</td>\n",
              "      <td>0.825435</td>\n",
              "      <td>0.000000</td>\n",
              "      <td>0.000000</td>\n",
              "      <td>0.000000</td>\n",
              "    </tr>\n",
              "    <tr>\n",
              "      <th>25%</th>\n",
              "      <td>4.324381</td>\n",
              "      <td>9314.992298</td>\n",
              "      <td>29263.911371</td>\n",
              "      <td>0.000993</td>\n",
              "      <td>4.000000</td>\n",
              "      <td>8.000000</td>\n",
              "      <td>1.0</td>\n",
              "      <td>7.959224e+02</td>\n",
              "      <td>1.320425e-01</td>\n",
              "      <td>8.009469e+02</td>\n",
              "      <td>3.980613</td>\n",
              "      <td>5.000000</td>\n",
              "      <td>2.000000</td>\n",
              "      <td>0.000000</td>\n",
              "    </tr>\n",
              "    <tr>\n",
              "      <th>50%</th>\n",
              "      <td>4.990547</td>\n",
              "      <td>9961.242569</td>\n",
              "      <td>31294.166476</td>\n",
              "      <td>0.001001</td>\n",
              "      <td>5.000000</td>\n",
              "      <td>10.000000</td>\n",
              "      <td>1.0</td>\n",
              "      <td>2.294823e+04</td>\n",
              "      <td>2.744109e+00</td>\n",
              "      <td>2.295354e+04</td>\n",
              "      <td>4.988078</td>\n",
              "      <td>7.000000</td>\n",
              "      <td>4.000000</td>\n",
              "      <td>0.000000</td>\n",
              "    </tr>\n",
              "    <tr>\n",
              "      <th>75%</th>\n",
              "      <td>5.675052</td>\n",
              "      <td>10678.569893</td>\n",
              "      <td>33547.716728</td>\n",
              "      <td>0.001007</td>\n",
              "      <td>6.000000</td>\n",
              "      <td>12.000000</td>\n",
              "      <td>1.0</td>\n",
              "      <td>6.395295e+05</td>\n",
              "      <td>7.829274e+01</td>\n",
              "      <td>6.395340e+05</td>\n",
              "      <td>6.022663</td>\n",
              "      <td>10.000000</td>\n",
              "      <td>7.000000</td>\n",
              "      <td>1.000000</td>\n",
              "    </tr>\n",
              "    <tr>\n",
              "      <th>max</th>\n",
              "      <td>8.819192</td>\n",
              "      <td>12819.907634</td>\n",
              "      <td>40274.927643</td>\n",
              "      <td>0.001035</td>\n",
              "      <td>10.000000</td>\n",
              "      <td>22.000000</td>\n",
              "      <td>1.0</td>\n",
              "      <td>6.069658e+11</td>\n",
              "      <td>1.572134e+06</td>\n",
              "      <td>6.069658e+11</td>\n",
              "      <td>10.327562</td>\n",
              "      <td>33.000000</td>\n",
              "      <td>39.000000</td>\n",
              "      <td>1.000000</td>\n",
              "    </tr>\n",
              "  </tbody>\n",
              "</table>\n",
              "</div>"
            ],
            "text/plain": [
              "          feature4      feature5  ...        stops            y\n",
              "count  1000.000000   1000.000000  ...  1000.000000  1000.000000\n",
              "mean      4.984873   9977.840571  ...     4.763000     0.310000\n",
              "std       0.997816    990.773528  ...     4.282893     0.462725\n",
              "min       2.116270   7193.513346  ...     0.000000     0.000000\n",
              "25%       4.324381   9314.992298  ...     2.000000     0.000000\n",
              "50%       4.990547   9961.242569  ...     4.000000     0.000000\n",
              "75%       5.675052  10678.569893  ...     7.000000     1.000000\n",
              "max       8.819192  12819.907634  ...    39.000000     1.000000\n",
              "\n",
              "[8 rows x 14 columns]"
            ]
          },
          "metadata": {
            "tags": []
          },
          "execution_count": 14
        }
      ]
    },
    {
      "cell_type": "code",
      "metadata": {
        "colab": {
          "base_uri": "https://localhost:8080/"
        },
        "id": "RUkUncViL0WO",
        "outputId": "0dac1658-c0c7-44e4-c8c3-ee97db22e5a4"
      },
      "source": [
        "df.feature2.describe() # last print was too wide for 1 screen"
      ],
      "execution_count": 15,
      "outputs": [
        {
          "output_type": "execute_result",
          "data": {
            "text/plain": [
              "count      1000\n",
              "unique        1\n",
              "top       False\n",
              "freq       1000\n",
              "Name: feature2, dtype: object"
            ]
          },
          "metadata": {
            "tags": []
          },
          "execution_count": 15
        }
      ]
    },
    {
      "cell_type": "markdown",
      "metadata": {
        "id": "CoUSNCdnMLpo"
      },
      "source": [
        "We can clearly see that feature2 and feature10 do absolutely nothing as they are just the same value every time. \r\n",
        "\r\n",
        "We must confirm this is the case in the test data, the code is the same as above and omitted, but the outcome is basically the same. The only difference is that the test data feature2 has 1 row with a different value.\r\n",
        "\r\n",
        "We also need to drop the filename because without dropping it our matrix of features won't be a proper vector space. More intuitively, a filename should have no importance about the trips classification.\r\n",
        "\r\n",
        "We are just going to drop these three columns immediately.\r\n",
        "\r\n"
      ]
    },
    {
      "cell_type": "code",
      "metadata": {
        "id": "qgPnQmRgMmtC"
      },
      "source": [
        "df.drop(['filename','feature2','feature10'],axis=1,inplace=True)"
      ],
      "execution_count": 16,
      "outputs": []
    },
    {
      "cell_type": "markdown",
      "metadata": {
        "id": "6IhxlinN3FXm"
      },
      "source": [
        "We need to **standardize** and **split up** our data into training and testing set. If we didn't do this before ranking feature importance, then we would introduce bias. We randomly shuffle the data before selecting the training and test subsets.\r\n",
        "\r\n",
        "Training Data: 75% of data\r\n",
        "\r\n",
        "Test Data: 25% of data "
      ]
    },
    {
      "cell_type": "code",
      "metadata": {
        "id": "orM_2aH94SnP"
      },
      "source": [
        "# making this a function so we can easily call it if we decide to drop features in the future\r\n",
        "def split_and_norm(df):\r\n",
        "  features = np.array(df.iloc[:,:-1])\r\n",
        "  labels = np.array(df.iloc[:,-1])\r\n",
        "\r\n",
        "  X_train,X_test,y_train,y_test = train_test_split(features,labels,test_size=.25,random_state=5)\r\n",
        "\r\n",
        "  scaler = StandardScaler()\r\n",
        "  X_train = scaler.fit_transform(X_train)\r\n",
        "  X_test = scaler.transform(X_test)\r\n",
        "  return features, labels, X_train, X_test, y_train, y_test # a little bit messy\r\n",
        "\r\n",
        "features, labels, X_train, X_test, y_train, y_test = split_and_norm(df)"
      ],
      "execution_count": 114,
      "outputs": []
    },
    {
      "cell_type": "markdown",
      "metadata": {
        "id": "8z-61p2wWEd8"
      },
      "source": [
        "## Feature Importance\r\n",
        "\r\n",
        "Ranking of the importance of features. This gives us more insight into our data. I will be using the feature imporatnce of a random forest. The parameters of the random forest were selected in the classification sectio"
      ]
    },
    {
      "cell_type": "code",
      "metadata": {
        "colab": {
          "base_uri": "https://localhost:8080/",
          "height": 638
        },
        "id": "OOUyMlps5qoS",
        "outputId": "fabef6f4-186a-418b-bc44-79976e64be1e"
      },
      "source": [
        "\r\n",
        "RF = RandomForestClassifier(n_estimators=200, max_depth=12,random_state=1,min_samples_leaf=1)\r\n",
        "RF.fit(X_train, y_train)\r\n",
        "\r\n",
        "importance = RF.feature_importances_\r\n",
        "std = np.std([tree.feature_importances_ for tree in RF.estimators_],axis=0)\r\n",
        "indices = np.argsort(importance)[::-1]\r\n",
        "\r\n",
        "# Print the feature ranking\r\n",
        "print(\"Feature ranking:\")\r\n",
        "correct_column_order = [] # making nice xticks for future plot\r\n",
        "for f in range(X_train.shape[1]):\r\n",
        "    print(f\"{f+1}. {list(df.columns)[indices[f]]} ({importance[indices[f]]})\")\r\n",
        "    correct_column_order.append(list(df.columns)[indices[f]])\r\n",
        "\r\n",
        "# Plot the impurity-based feature importances of the forest\r\n",
        "plt.figure()\r\n",
        "plt.title(\"Feature importances\")\r\n",
        "plt.barh(range(X_train.shape[1]),importance[indices],color=\"r\", xerr=std[indices], align=\"center\")\r\n",
        "plt.yticks(range(X_train.shape[1]), correct_column_order)\r\n",
        "#plt.ylim([-1, X_train.shape[1]])\r\n",
        "plt.show()"
      ],
      "execution_count": 35,
      "outputs": [
        {
          "output_type": "stream",
          "text": [
            "Feature ranking:\n",
            "1. feature9 (0.22930353742120518)\n",
            "2. feature7 (0.19640103243753684)\n",
            "3. feature4 (0.09417616987039193)\n",
            "4. feature14 (0.06434093394483503)\n",
            "5. feature6 (0.057343575860919295)\n",
            "6. feature5 (0.055965058655970935)\n",
            "7. feature12 (0.053731716005379286)\n",
            "8. feature11 (0.046648313913810614)\n",
            "9. turns (0.046604776971300124)\n",
            "10. feature13 (0.04590346504182939)\n",
            "11. stops (0.04377548947361034)\n",
            "12. feature1 (0.026025233671427533)\n",
            "13. feature8 (0.024999349638302786)\n",
            "14. feature3 (0.014781347093480682)\n"
          ],
          "name": "stdout"
        },
        {
          "output_type": "display_data",
          "data": {
            "image/png": "[encoded data removed]",
            "text/plain": [
              "<Figure size 576x396 with 1 Axes>"
            ]
          },
          "metadata": {
            "tags": []
          }
        }
      ]
    },
    {
      "cell_type": "markdown",
      "metadata": {
        "id": "vDyU0I4b_M6O"
      },
      "source": [
        "We will explore the dropping low importance features during the classification section.\r\n"
      ]
    },
    {
      "cell_type": "markdown",
      "metadata": {
        "id": "89q-krKzWL0x"
      },
      "source": [
        "## PCA\r\n",
        "\r\n",
        "One major benefit of PCA dimensionality reduction is that you can speed up computations by reducing dimnesions by combining features, with marginal loss in performance, but sometimes better performance.\r\n",
        "\r\n",
        "\r\n"
      ]
    },
    {
      "cell_type": "code",
      "metadata": {
        "colab": {
          "base_uri": "https://localhost:8080/"
        },
        "id": "HpUeR6Pc_it4",
        "outputId": "e62ef304-328d-4d77-ba3d-ef4617775f87"
      },
      "source": [
        "from sklearn.decomposition import PCA\r\n",
        "def test_pca(df,components):\r\n",
        "  pca = PCA(n_components= components)\r\n",
        "  principalComponents = pca.fit_transform(np.array(df.iloc[:,:-1]))\r\n",
        "  columns = [f'PC {i+1}' for i in range(principalComponents.shape[1])]\r\n",
        "  principalDf = pd.DataFrame(data = principalComponents, columns = columns)\r\n",
        "  new_df = pd.concat([principalDf, df['y']], axis = 1)\r\n",
        "\r\n",
        "  features_pca, labels_pca, X_train_pca, X_test_pca, y_train_pca, y_test_pca = split_and_norm(new_df)\r\n",
        "\r\n",
        "  RF = RandomForestClassifier(n_estimators=250, max_depth=12,random_state=1,min_samples_leaf=1)\r\n",
        "  print(f\"PCA with n_components = {components}\")\r\n",
        "  #print(\"10-fold cross-validation mean AUC: \", np.mean(cross_val_score(RF, features_pca, labels_pca, cv=10,scoring='roc_auc')))\r\n",
        "\r\n",
        "  RF.fit(X_train_pca, y_train_pca)\r\n",
        "  y_pred_pca = RF.predict_proba(X_test_pca)[:,1]\r\n",
        "  tprAtDesiredFPR,fpr,tpr = tprAtFPR(y_test_pca,y_pred_pca,.55) # this is how we evaluate the matrix later in the notebook\r\n",
        "  print(\"Test set AUC: \", roc_auc_score(y_test_pca,y_pred_pca))\r\n",
        "  print(f'Mean TPR at FPR = {desiredFPR}: {tprAtDesiredFPR*100} %')\r\n",
        "  #print(confusion_matrix(y_test_pca, y_pred_pca))\r\n",
        "\r\n",
        "  #print(classification_report(y_test_pca, y_pred_pca))\r\n",
        "  #print(\"Test set AUC (classification): \",roc_auc_score(y_test_pca,y_pred_pca))\r\n",
        "  #print(\"Accuracy: %.2f%%\" % (accuracy_score(y_test_pca, y_pred_pca) * 100.0))\r\n",
        "test_pca(df,14) # no change to features\r\n",
        "print(\"-\"*20)\r\n",
        "test_pca(df,12)\r\n",
        "print(\"-\"*20)\r\n",
        "test_pca(df,10)"
      ],
      "execution_count": 115,
      "outputs": [
        {
          "output_type": "stream",
          "text": [
            "PCA with n_components = 14\n",
            "Test set AUC:  0.9205979832169805\n",
            "Mean TPR at FPR = 0.55: 97.70114942528735 %\n",
            "--------------------\n",
            "PCA with n_components = 12\n",
            "Test set AUC:  0.9206685001057754\n",
            "Mean TPR at FPR = 0.55: 98.85057471264368 %\n",
            "--------------------\n",
            "PCA with n_components = 10\n",
            "Test set AUC:  0.8484592059798323\n",
            "Mean TPR at FPR = 0.55: 97.70114942528735 %\n"
          ],
          "name": "stdout"
        }
      ]
    },
    {
      "cell_type": "markdown",
      "metadata": {
        "id": "Db-9UtyBBt63"
      },
      "source": [
        "We can see that with 12 components, we actually improved our AUC, very marginally.\r\n",
        "\r\n",
        "With the impacts being so marginal it isn't worth to use PCA in this context. It might become worth it eventually depending on the scale of the data.\r\n",
        "\r\n",
        "It's currently not worth using because PCA adds a, currently unneeded, layer of computational obfuscation. \r\n",
        "\r\n",
        "When all of your features become principle components, it becomes almost impossible for a human to fully understand how one feature actually impacts the outcome of a model."
      ]
    },
    {
      "cell_type": "markdown",
      "metadata": {
        "id": "yz_WamNLCPNP"
      },
      "source": [
        "# **Classification Evaluation Criteria**\r\n",
        "\r\n",
        "There are many ways to score the accuracy of binary classification. We will use two metrics\r\n",
        "\r\n",
        "* **AUC under the ROC curve** (Area under the Receiver Operating Characteristics curve)\r\n",
        "* **True positive rate at N% false positive rate**\r\n",
        "\r\n",
        "The AUC under the ROC curve is a standard way to evaluation metric. \r\n"
      ]
    },
    {
      "cell_type": "markdown",
      "metadata": {
        "id": "nsVjZtJdGztx"
      },
      "source": [
        "**Why true positive rate at N% false positive rate?**\r\n",
        "\r\n",
        "**Assumption:** Given that this is an insurance company and we are evaluating vehicle/car data, the *interesting* trips will probably contribute towards a customers insurance rate.\r\n",
        "\r\n",
        "---\r\n",
        "\r\n",
        "First let me explain true positive rate and false positive\r\n",
        "* True Positive Rate: The **correct** number of times we predicted a trip was interesting\r\n",
        "* False Positive Rate: The number of times we predicted an not interesting trip as interesting\r\n",
        "\r\n",
        "---\r\n",
        "\r\n",
        "\r\n",
        "**Customer Perspective**\r\n",
        "\r\n",
        "From a customer point of view, you would want a very low false positive rate, since their insurance rates could get impacted due to false positive reports. Thus a customer would want N to be the smallest value possible.\r\n",
        "\r\n",
        "**Company Perspective**\r\n",
        "\r\n",
        "When you constrain yourself to such a low false positive rate, it makes it significantly reduces your number of true positives.\r\n",
        "\r\n",
        "Thus the company would want N to be large, since they will correctly identify trips which show signs of bad driving, thus giving those customers higher rates. We would prefer to slightly overcharge to protect the company than to undercharge and need waste money.\r\n",
        "\r\n",
        "---\r\n",
        "\r\n",
        "**Picking N to meet in the middle**\r\n",
        "\r\n",
        "As a company you want to make customers happy while making money, so we have to consider some value of N in the middle of these two extremes. \r\n",
        "\r\n",
        "It would be natural to think 50% is the best middleground, however a company will care more about the saftey of their financials, so long as customers aren't extremely unhappy.\r\n",
        "\r\n",
        "With this in mind, we expect a good N value to be somewhere between: [50, 80]%\r\n",
        "\r\n",
        "This value could be much higher depending on how impactful an 'interesting' labeled trip is towards a single persons insurance rates."
      ]
    },
    {
      "cell_type": "markdown",
      "metadata": {
        "id": "-SByETlKPc_F"
      },
      "source": [
        "**N = 0.6** for algorithm selection process.\r\n",
        "\r\n",
        "This is simply to reduce the number of hyper-parameters we need to tune during the selection phase. "
      ]
    },
    {
      "cell_type": "code",
      "metadata": {
        "id": "f79svJV7I7Sn"
      },
      "source": [
        "def tprAtFPR(labels,outputs,desiredFPR):\r\n",
        "    fpr,tpr,thres = roc_curve(labels,outputs)\r\n",
        "    # True positive rate for highest false positive rate < 0.01\r\n",
        "    maxFprIndex = np.where(fpr<=desiredFPR)[0][-1]\r\n",
        "    fprBelow = fpr[maxFprIndex]\r\n",
        "    fprAbove = fpr[maxFprIndex+1]\r\n",
        "    # Find TPR at exactly desired FPR by linear interpolation\r\n",
        "    tprBelow = tpr[maxFprIndex]\r\n",
        "    tprAbove = tpr[maxFprIndex+1]\r\n",
        "    tprAt = ((tprAbove-tprBelow)/(fprAbove-fprBelow)*(desiredFPR-fprBelow) \r\n",
        "             + tprBelow)\r\n",
        "    return tprAt,fpr,tpr\r\n",
        "\r\n",
        "\r\n",
        "desiredFPR = 0.6 # using this"
      ],
      "execution_count": 85,
      "outputs": []
    },
    {
      "cell_type": "markdown",
      "metadata": {
        "id": "5VpMQONqXFQE"
      },
      "source": [
        "# **Classification**"
      ]
    },
    {
      "cell_type": "markdown",
      "metadata": {
        "id": "TfzGNNEBQgco"
      },
      "source": [
        "## Random Forest Classification\r\n",
        "\r\n",
        "I've used random forest for binary classfication [in the past](https://github.com/bpblakely/Email-Spam-Classification-Project) and it worked very well, so let's start off by testing that. I'll show some extra evaluation metrics just for sake of completeness.\r\n",
        "\r\n"
      ]
    },
    {
      "cell_type": "code",
      "metadata": {
        "colab": {
          "base_uri": "https://localhost:8080/",
          "height": 680
        },
        "id": "pZcnhdE1RnUN",
        "outputId": "7889c1aa-5a1b-41c5-9184-f33888dff032"
      },
      "source": [
        "RF = RandomForestClassifier(n_estimators=250, max_depth=12,random_state=1,min_samples_leaf=1)\r\n",
        "\r\n",
        "print(\"10-fold cross-validation mean AUC: \", np.mean(cross_val_score(RF, features, labels, cv=10,scoring='roc_auc')))\r\n",
        "\r\n",
        "RF.fit(X_train, y_train)\r\n",
        "y_pred = RF.predict_proba(X_test)[:,1]\r\n",
        "print(\"Test set AUC: \", roc_auc_score(y_test,y_pred))\r\n",
        "y_pred_class =  RF.predict(X_test) # rounding our probabilities to 0 or 1 for classification\r\n",
        "print(confusion_matrix(y_test, y_pred_class))\r\n",
        "\r\n",
        "print(classification_report(y_test, y_pred_class))\r\n",
        "print(roc_auc_score(y_test,y_pred_class))\r\n",
        "print(\"Accuracy: %.2f%%\" % (accuracy_score(y_test, y_pred_class) * 100.0))\r\n",
        "\r\n",
        "tprAtDesiredFPR,fpr,tpr = tprAtFPR(y_test,y_pred,desiredFPR)\r\n",
        "\r\n",
        "print(f'Mean TPR at FPR = {desiredFPR}: {tprAtDesiredFPR*100} %')\r\n",
        "\r\n",
        "plt.plot(fpr,tpr)\r\n",
        "plt.xlabel('False positive rate')\r\n",
        "plt.ylabel('True positive rate')\r\n",
        "plt.title(f'ROC curve for FPR <= {desiredFPR * 100} %')    \r\n",
        "plt.show()"
      ],
      "execution_count": 109,
      "outputs": [
        {
          "output_type": "stream",
          "text": [
            "10-fold cross-validation mean AUC:  0.9158952781673679\n",
            "Test set AUC:  0.927226570763698\n",
            "[[157   6]\n",
            " [ 25  62]]\n",
            "              precision    recall  f1-score   support\n",
            "\n",
            "           0       0.86      0.96      0.91       163\n",
            "           1       0.91      0.71      0.80        87\n",
            "\n",
            "    accuracy                           0.88       250\n",
            "   macro avg       0.89      0.84      0.86       250\n",
            "weighted avg       0.88      0.88      0.87       250\n",
            "\n",
            "0.8379169311049997\n",
            "Accuracy: 87.60%\n",
            "Mean TPR at FPR = 0.55: 97.70114942528735 %\n"
          ],
          "name": "stdout"
        },
        {
          "output_type": "display_data",
          "data": {
            "image/png": "[encoded data removed]",
            "text/plain": [
              "<Figure size 576x396 with 1 Axes>"
            ]
          },
          "metadata": {
            "tags": []
          }
        }
      ]
    },
    {
      "cell_type": "markdown",
      "metadata": {
        "id": "ZOQywzXIRoP0"
      },
      "source": [
        "Looks pretty nice, lets see if we can optimize our hyper-parameters by a simple double for loop"
      ]
    },
    {
      "cell_type": "code",
      "metadata": {
        "colab": {
          "base_uri": "https://localhost:8080/",
          "height": 757
        },
        "id": "KNWNOrDCQ-5P",
        "outputId": "78bb6937-c0f0-485b-ccc6-c4de2f69b489"
      },
      "source": [
        "data = []\r\n",
        "for i in range(150,500,50):\r\n",
        "    for j in range(4,24,4):\r\n",
        "        RF = RandomForestClassifier(n_estimators= i, max_depth= j,random_state=1,min_samples_leaf=1)\r\n",
        "        score = np.mean(cross_val_score(RF, features, labels, cv=10,scoring='roc_auc'))\r\n",
        "        if j%8: print(i,j,score) # do less printing\r\n",
        "        data.append([i,j,score])\r\n",
        "\r\n",
        "brute = pd.DataFrame(data,columns=['estimators','max_depth','roc_auc'])\r\n",
        "\r\n",
        "import matplotlib.pyplot as plt\r\n",
        "for k,g in brute.groupby('max_depth'):\r\n",
        "    plt.plot(g.estimators.values,g.roc_auc.values,label=str(k))\r\n",
        "plt.legend(title='max_depth')\r\n",
        "plt.plot()\r\n",
        "max(brute.roc_auc)"
      ],
      "execution_count": 95,
      "outputs": [
        {
          "output_type": "stream",
          "text": [
            "150 4 0.9058438522674148\n",
            "150 12 0.9130902290790088\n",
            "150 20 0.9129032258064516\n",
            "200 4 0.9053763440860216\n",
            "200 12 0.9134174848059841\n",
            "200 20 0.9133707339878446\n",
            "250 4 0.905750350631136\n",
            "250 12 0.9141654978962132\n",
            "250 20 0.9162926601215521\n",
            "300 4 0.9057035998129969\n",
            "300 12 0.9152875175315567\n",
            "300 20 0.9164562879850398\n",
            "350 4 0.9054230949041606\n",
            "350 12 0.9151472650771388\n",
            "350 20 0.9163160355306219\n",
            "400 4 0.9056568489948574\n",
            "400 12 0.9152407667134174\n",
            "400 20 0.9166432912575969\n",
            "450 4 0.9064048620850865\n",
            "450 12 0.9149602618045816\n",
            "450 20 0.9158017765310893\n"
          ],
          "name": "stdout"
        },
        {
          "output_type": "execute_result",
          "data": {
            "text/plain": [
              "0.9166432912575969"
            ]
          },
          "metadata": {
            "tags": []
          },
          "execution_count": 95
        },
        {
          "output_type": "display_data",
          "data": {
            "image/png": "[encoded data removed]",
            "text/plain": [
              "<Figure size 576x396 with 1 Axes>"
            ]
          },
          "metadata": {
            "tags": []
          }
        }
      ]
    },
    {
      "cell_type": "markdown",
      "metadata": {
        "id": "UPJlBVOhUhG1"
      },
      "source": [
        "We can see the the performance is relatively the same for most n_estimators and depths>4. Odds are that this graph will look different for different shuffles of the data, so let's take it with a grain of salt.\r\n",
        "\r\n",
        "Let's pick n_estimators = 250, and max_depth = 8 to save on computational complexity and seems to be stable"
      ]
    },
    {
      "cell_type": "markdown",
      "metadata": {
        "id": "HBz7GoovR2dA"
      },
      "source": [
        "## Neural Network\r\n",
        "\r\n",
        "It feels a little overkill to implement a neural network in pytorch just for simple binary classificaiton, but I want to show that I know a bit of pytorch. \r\n",
        "\r\n",
        "My experience with neural networks with small sample data is overfitting, so I expect to see that to some degree. The NN approach would be much better if I had a million trips instead of 1 thousand."
      ]
    },
    {
      "cell_type": "code",
      "metadata": {
        "id": "J-CqWyiwSwH1"
      },
      "source": [
        "# Just set everything up\r\n",
        "import torch\r\n",
        "import torch.nn as nn\r\n",
        "import torch.optim as optim\r\n",
        "from torch.utils.data import Dataset, DataLoader\r\n",
        "\r\n",
        "EPOCHS = 100\r\n",
        "BATCH_SIZE = 64\r\n",
        "LEARNING_RATE = 0.001\r\n",
        "\r\n",
        "class trainData(Dataset):\r\n",
        "    \r\n",
        "    def __init__(self, X_data, y_data):\r\n",
        "        self.X_data = X_data\r\n",
        "        self.y_data = y_data\r\n",
        "        \r\n",
        "    def __getitem__(self, index):\r\n",
        "        return self.X_data[index], self.y_data[index]\r\n",
        "        \r\n",
        "    def __len__ (self):\r\n",
        "        return len(self.X_data)\r\n",
        "\r\n",
        "\r\n",
        "train_data = trainData(torch.FloatTensor(X_train), torch.FloatTensor(y_train))\r\n",
        "\r\n",
        "class testData(Dataset):\r\n",
        "    \r\n",
        "    def __init__(self, X_data):\r\n",
        "        self.X_data = X_data\r\n",
        "        \r\n",
        "    def __getitem__(self, index):\r\n",
        "        return self.X_data[index]\r\n",
        "        \r\n",
        "    def __len__ (self):\r\n",
        "        return len(self.X_data)\r\n",
        "    \r\n",
        "test_data = testData(torch.FloatTensor(X_test))\r\n",
        "\r\n",
        "train_loader = DataLoader(dataset=train_data, batch_size=BATCH_SIZE, shuffle=True)\r\n",
        "test_loader = DataLoader(dataset=test_data, batch_size=1)\r\n",
        "\r\n",
        "class binaryClassification(nn.Module):\r\n",
        "    def __init__(self):\r\n",
        "        super(binaryClassification, self).__init__()        # Number of input features is 14\r\n",
        "        self.layer_1 = nn.Linear(14, 64) \r\n",
        "        self.layer_2 = nn.Linear(64, 64)\r\n",
        "        self.layer_out = nn.Linear(64, 1) \r\n",
        "        \r\n",
        "        self.relu = nn.ReLU()\r\n",
        "        self.dropout = nn.Dropout(p=0.1)\r\n",
        "        self.batchnorm1 = nn.BatchNorm1d(64)\r\n",
        "        self.batchnorm2 = nn.BatchNorm1d(64)\r\n",
        "        \r\n",
        "    def forward(self, inputs):\r\n",
        "        x = self.relu(self.layer_1(inputs))\r\n",
        "        x = self.batchnorm1(x)\r\n",
        "        x = self.relu(self.layer_2(x))\r\n",
        "        x = self.batchnorm2(x)\r\n",
        "        x = self.dropout(x)\r\n",
        "        x = self.layer_out(x)\r\n",
        "        \r\n",
        "        return x"
      ],
      "execution_count": 72,
      "outputs": []
    },
    {
      "cell_type": "code",
      "metadata": {
        "colab": {
          "base_uri": "https://localhost:8080/"
        },
        "id": "Px6EFRR3Sy0X",
        "outputId": "4beaf95d-518a-4168-b441-da2e7bc4a7c2"
      },
      "source": [
        "# Still setting up\r\n",
        "device = torch.device(\"cuda:0\" if torch.cuda.is_available() else \"cpu\")\r\n",
        "print(device)\r\n",
        "\r\n",
        "model = binaryClassification()\r\n",
        "model.to(device)\r\n",
        "print(model)\r\n",
        "criterion = nn.BCEWithLogitsLoss()\r\n",
        "optimizer = optim.Adam(model.parameters(), lr=LEARNING_RATE)"
      ],
      "execution_count": 73,
      "outputs": [
        {
          "output_type": "stream",
          "text": [
            "cpu\n",
            "binaryClassification(\n",
            "  (layer_1): Linear(in_features=14, out_features=64, bias=True)\n",
            "  (layer_2): Linear(in_features=64, out_features=64, bias=True)\n",
            "  (layer_out): Linear(in_features=64, out_features=1, bias=True)\n",
            "  (relu): ReLU()\n",
            "  (dropout): Dropout(p=0.1, inplace=False)\n",
            "  (batchnorm1): BatchNorm1d(64, eps=1e-05, momentum=0.1, affine=True, track_running_stats=True)\n",
            "  (batchnorm2): BatchNorm1d(64, eps=1e-05, momentum=0.1, affine=True, track_running_stats=True)\n",
            ")\n"
          ],
          "name": "stdout"
        }
      ]
    },
    {
      "cell_type": "code",
      "metadata": {
        "colab": {
          "base_uri": "https://localhost:8080/"
        },
        "id": "on87quhMS1Pq",
        "outputId": "a1bba949-3466-4767-b793-bba080219f3d"
      },
      "source": [
        "# How we are classify data\r\n",
        "import torch.nn.functional as nnf\r\n",
        "\r\n",
        "def binary_acc(y_pred, y_test):\r\n",
        "    y_pred_tag = torch.round(torch.sigmoid(y_pred))\r\n",
        "\r\n",
        "    correct_results_sum = (y_pred_tag == y_test).sum().float()\r\n",
        "    acc = correct_results_sum/y_test.shape[0]\r\n",
        "    acc = torch.round(acc * 100)\r\n",
        "    \r\n",
        "    return acc\r\n",
        "\r\n",
        "model.train()\r\n",
        "for e in range(1, EPOCHS+1):\r\n",
        "    epoch_loss = 0\r\n",
        "    epoch_acc = 0\r\n",
        "    for X_batch, y_batch in train_loader:\r\n",
        "        X_batch, y_batch = X_batch.to(device), y_batch.to(device)\r\n",
        "        optimizer.zero_grad()\r\n",
        "        \r\n",
        "        y_pred = model(X_batch)\r\n",
        "\r\n",
        "        loss = criterion(y_pred, y_batch.unsqueeze(1))\r\n",
        "        acc = binary_acc(y_pred, y_batch.unsqueeze(1))\r\n",
        "        \r\n",
        "        loss.backward()\r\n",
        "        optimizer.step()\r\n",
        "        \r\n",
        "        epoch_loss += loss.item()\r\n",
        "        epoch_acc += acc.item()\r\n",
        "        \r\n",
        "    print(f'Epoch {e+0:03}: | Loss: {epoch_loss/len(train_loader):.5f} | Acc: {epoch_acc/len(train_loader):.3f}')"
      ],
      "execution_count": 74,
      "outputs": [
        {
          "output_type": "stream",
          "text": [
            "Epoch 001: | Loss: 0.68103 | Acc: 56.750\n",
            "Epoch 002: | Loss: 0.52905 | Acc: 74.917\n",
            "Epoch 003: | Loss: 0.47256 | Acc: 76.917\n",
            "Epoch 004: | Loss: 0.44013 | Acc: 81.250\n",
            "Epoch 005: | Loss: 0.38559 | Acc: 85.083\n",
            "Epoch 006: | Loss: 0.35865 | Acc: 86.000\n",
            "Epoch 007: | Loss: 0.32269 | Acc: 87.000\n",
            "Epoch 008: | Loss: 0.31461 | Acc: 88.167\n",
            "Epoch 009: | Loss: 0.29485 | Acc: 88.667\n",
            "Epoch 010: | Loss: 0.27422 | Acc: 89.000\n",
            "Epoch 011: | Loss: 0.24928 | Acc: 89.333\n",
            "Epoch 012: | Loss: 0.25864 | Acc: 88.750\n",
            "Epoch 013: | Loss: 0.23353 | Acc: 90.917\n",
            "Epoch 014: | Loss: 0.21218 | Acc: 91.000\n",
            "Epoch 015: | Loss: 0.22784 | Acc: 91.083\n",
            "Epoch 016: | Loss: 0.21754 | Acc: 90.583\n",
            "Epoch 017: | Loss: 0.19994 | Acc: 92.417\n",
            "Epoch 018: | Loss: 0.20118 | Acc: 91.917\n",
            "Epoch 019: | Loss: 0.18596 | Acc: 92.167\n",
            "Epoch 020: | Loss: 0.20262 | Acc: 90.833\n",
            "Epoch 021: | Loss: 0.18621 | Acc: 93.083\n",
            "Epoch 022: | Loss: 0.17430 | Acc: 92.500\n",
            "Epoch 023: | Loss: 0.15755 | Acc: 93.500\n",
            "Epoch 024: | Loss: 0.15502 | Acc: 94.333\n",
            "Epoch 025: | Loss: 0.16547 | Acc: 92.833\n",
            "Epoch 026: | Loss: 0.16316 | Acc: 93.833\n",
            "Epoch 027: | Loss: 0.17409 | Acc: 92.417\n",
            "Epoch 028: | Loss: 0.15813 | Acc: 93.250\n",
            "Epoch 029: | Loss: 0.12997 | Acc: 95.333\n",
            "Epoch 030: | Loss: 0.13951 | Acc: 94.083\n",
            "Epoch 031: | Loss: 0.12936 | Acc: 95.833\n",
            "Epoch 032: | Loss: 0.12697 | Acc: 95.083\n",
            "Epoch 033: | Loss: 0.12761 | Acc: 94.667\n",
            "Epoch 034: | Loss: 0.12388 | Acc: 95.583\n",
            "Epoch 035: | Loss: 0.13549 | Acc: 94.083\n",
            "Epoch 036: | Loss: 0.13362 | Acc: 95.083\n",
            "Epoch 037: | Loss: 0.12884 | Acc: 95.167\n",
            "Epoch 038: | Loss: 0.11286 | Acc: 95.667\n",
            "Epoch 039: | Loss: 0.10801 | Acc: 96.417\n",
            "Epoch 040: | Loss: 0.13274 | Acc: 94.667\n",
            "Epoch 041: | Loss: 0.11151 | Acc: 96.083\n",
            "Epoch 042: | Loss: 0.09453 | Acc: 97.000\n",
            "Epoch 043: | Loss: 0.14350 | Acc: 94.333\n",
            "Epoch 044: | Loss: 0.12087 | Acc: 95.500\n",
            "Epoch 045: | Loss: 0.09925 | Acc: 96.417\n",
            "Epoch 046: | Loss: 0.09516 | Acc: 96.583\n",
            "Epoch 047: | Loss: 0.10752 | Acc: 96.333\n",
            "Epoch 048: | Loss: 0.11109 | Acc: 95.167\n",
            "Epoch 049: | Loss: 0.09302 | Acc: 96.083\n",
            "Epoch 050: | Loss: 0.08795 | Acc: 96.750\n",
            "Epoch 051: | Loss: 0.08244 | Acc: 97.000\n",
            "Epoch 052: | Loss: 0.08639 | Acc: 97.167\n",
            "Epoch 053: | Loss: 0.09850 | Acc: 96.333\n",
            "Epoch 054: | Loss: 0.07786 | Acc: 97.333\n",
            "Epoch 055: | Loss: 0.06629 | Acc: 98.333\n",
            "Epoch 056: | Loss: 0.08007 | Acc: 97.167\n",
            "Epoch 057: | Loss: 0.09598 | Acc: 95.667\n",
            "Epoch 058: | Loss: 0.06943 | Acc: 97.417\n",
            "Epoch 059: | Loss: 0.07456 | Acc: 97.167\n",
            "Epoch 060: | Loss: 0.06877 | Acc: 97.250\n",
            "Epoch 061: | Loss: 0.08175 | Acc: 96.500\n",
            "Epoch 062: | Loss: 0.07742 | Acc: 97.667\n",
            "Epoch 063: | Loss: 0.09730 | Acc: 96.333\n",
            "Epoch 064: | Loss: 0.05555 | Acc: 98.750\n",
            "Epoch 065: | Loss: 0.07163 | Acc: 97.500\n",
            "Epoch 066: | Loss: 0.06751 | Acc: 97.500\n",
            "Epoch 067: | Loss: 0.05854 | Acc: 98.583\n",
            "Epoch 068: | Loss: 0.05418 | Acc: 98.583\n",
            "Epoch 069: | Loss: 0.06992 | Acc: 97.583\n",
            "Epoch 070: | Loss: 0.06223 | Acc: 98.167\n",
            "Epoch 071: | Loss: 0.07162 | Acc: 97.500\n",
            "Epoch 072: | Loss: 0.06733 | Acc: 97.333\n",
            "Epoch 073: | Loss: 0.04875 | Acc: 98.417\n",
            "Epoch 074: | Loss: 0.04642 | Acc: 98.917\n",
            "Epoch 075: | Loss: 0.05080 | Acc: 98.583\n",
            "Epoch 076: | Loss: 0.05323 | Acc: 97.833\n",
            "Epoch 077: | Loss: 0.06801 | Acc: 97.000\n",
            "Epoch 078: | Loss: 0.05172 | Acc: 98.250\n",
            "Epoch 079: | Loss: 0.05712 | Acc: 97.667\n",
            "Epoch 080: | Loss: 0.05136 | Acc: 97.917\n",
            "Epoch 081: | Loss: 0.05470 | Acc: 97.833\n",
            "Epoch 082: | Loss: 0.05538 | Acc: 97.750\n",
            "Epoch 083: | Loss: 0.05053 | Acc: 98.500\n",
            "Epoch 084: | Loss: 0.04808 | Acc: 98.167\n",
            "Epoch 085: | Loss: 0.03792 | Acc: 98.833\n",
            "Epoch 086: | Loss: 0.04525 | Acc: 98.167\n",
            "Epoch 087: | Loss: 0.03675 | Acc: 99.167\n",
            "Epoch 088: | Loss: 0.03661 | Acc: 99.333\n",
            "Epoch 089: | Loss: 0.03927 | Acc: 98.833\n",
            "Epoch 090: | Loss: 0.03856 | Acc: 98.833\n",
            "Epoch 091: | Loss: 0.02673 | Acc: 99.083\n",
            "Epoch 092: | Loss: 0.03004 | Acc: 99.417\n",
            "Epoch 093: | Loss: 0.03826 | Acc: 98.500\n",
            "Epoch 094: | Loss: 0.03722 | Acc: 99.000\n",
            "Epoch 095: | Loss: 0.02814 | Acc: 99.083\n",
            "Epoch 096: | Loss: 0.04999 | Acc: 98.333\n",
            "Epoch 097: | Loss: 0.04470 | Acc: 98.250\n",
            "Epoch 098: | Loss: 0.03928 | Acc: 98.333\n",
            "Epoch 099: | Loss: 0.04565 | Acc: 97.750\n",
            "Epoch 100: | Loss: 0.03474 | Acc: 99.000\n"
          ],
          "name": "stdout"
        }
      ]
    },
    {
      "cell_type": "code",
      "metadata": {
        "id": "AUcraYJrS3mi"
      },
      "source": [
        "# train NN and predict\r\n",
        "y_pred_list = []\r\n",
        "model.eval()\r\n",
        "y_prob = []\r\n",
        "with torch.no_grad():\r\n",
        "    for X_batch in test_loader:\r\n",
        "        X_batch = X_batch.to(device)\r\n",
        "        y_test_pred = model(X_batch)\r\n",
        "        # top_p, top_class = prob.topk(1, dim = 1)\r\n",
        "        y_test_pred = torch.sigmoid(y_test_pred)\r\n",
        "        y_pred_tag = torch.round(y_test_pred)\r\n",
        "        y_pred_list.append(y_pred_tag.cpu().numpy())\r\n",
        "y_pred_list = [a.squeeze().tolist() for a in y_pred_list]"
      ],
      "execution_count": 75,
      "outputs": []
    },
    {
      "cell_type": "code",
      "metadata": {
        "colab": {
          "base_uri": "https://localhost:8080/"
        },
        "id": "t15jQC_sTCYs",
        "outputId": "dcff003c-2739-4763-aa04-708d43646cb2"
      },
      "source": [
        "tprAtDesiredFPR,fpr,tpr = tprAtFPR(y_test,y_pred_list,desiredFPR)\r\n",
        "print(f'Mean TPR at FPR = {desiredFPR}: {tprAtDesiredFPR*100} %')\r\n",
        "\r\n",
        "print(confusion_matrix(y_test, y_pred_list))\r\n",
        "print(classification_report(y_test, y_pred_list))\r\n",
        "print(\"Test set AUC: \", roc_auc_score(y_test,y_pred_list))"
      ],
      "execution_count": 77,
      "outputs": [
        {
          "output_type": "stream",
          "text": [
            "Mean TPR at FPR = 0.5: 82.2771046908978 %\n",
            "[[148  15]\n",
            " [ 28  59]]\n",
            "              precision    recall  f1-score   support\n",
            "\n",
            "           0       0.84      0.91      0.87       163\n",
            "           1       0.80      0.68      0.73        87\n",
            "\n",
            "    accuracy                           0.83       250\n",
            "   macro avg       0.82      0.79      0.80       250\n",
            "weighted avg       0.83      0.83      0.82       250\n",
            "\n",
            "Test set AUC:  0.7930681898314647\n"
          ],
          "name": "stdout"
        }
      ]
    },
    {
      "cell_type": "markdown",
      "metadata": {
        "id": "C2_ixk4HXMu6"
      },
      "source": [
        "# **Algorithm Selection**"
      ]
    },
    {
      "cell_type": "markdown",
      "metadata": {
        "id": "e4qc1D6kUdji"
      },
      "source": [
        "As you can see, **random forest** out performed the NN slightly. Despite the AUC score (of descrete values, not probabilities), being higher for the NN, marginally, I think it's safer to use random forest, just because of my past experiences with it. \r\n",
        "\r\n",
        "I ran the final prediction code on my local machine"
      ]
    },
    {
      "cell_type": "markdown",
      "metadata": {
        "id": "0FkdIaDgPuHv"
      },
      "source": [
        "## Selecting the Correct N Value\r\n",
        "\r\n",
        "Now that we have selected the algorithm to use, let's see if we can find a good value for N.\r\n",
        "\r\n"
      ]
    },
    {
      "cell_type": "code",
      "metadata": {
        "colab": {
          "base_uri": "https://localhost:8080/"
        },
        "id": "CLERHlW9P-1H",
        "outputId": "d6a60274-ab07-4fab-9757-d49aff02fed6"
      },
      "source": [
        "RF = RandomForestClassifier(n_estimators=200, max_depth=12,random_state=1,min_samples_leaf=1)\r\n",
        "RF.fit(X_train, y_train)\r\n",
        "y_pred = RF.predict_proba(X_test)[:,1]\r\n",
        "\r\n",
        "for i in np.arange(0,1,.05):\r\n",
        "  tprAtDesiredFPR,fpr,tpr = tprAtFPR(y_test,y_pred,i)\r\n",
        "  print(f'Mean TPR at FPR = {i}: {tprAtDesiredFPR*100} %')\r\n"
      ],
      "execution_count": 110,
      "outputs": [
        {
          "output_type": "stream",
          "text": [
            "Mean TPR at FPR = 0.0: 1.1494252873563218 %\n",
            "Mean TPR at FPR = 0.05: 73.5632183908046 %\n",
            "Mean TPR at FPR = 0.1: 78.16091954022988 %\n",
            "Mean TPR at FPR = 0.15000000000000002: 79.3103448275862 %\n",
            "Mean TPR at FPR = 0.2: 87.35632183908046 %\n",
            "Mean TPR at FPR = 0.25: 90.80459770114942 %\n",
            "Mean TPR at FPR = 0.30000000000000004: 94.25287356321839 %\n",
            "Mean TPR at FPR = 0.35000000000000003: 94.25287356321839 %\n",
            "Mean TPR at FPR = 0.4: 97.70114942528735 %\n",
            "Mean TPR at FPR = 0.45: 97.70114942528735 %\n",
            "Mean TPR at FPR = 0.5: 97.70114942528735 %\n",
            "Mean TPR at FPR = 0.55: 98.85057471264368 %\n",
            "Mean TPR at FPR = 0.6000000000000001: 100.0 %\n",
            "Mean TPR at FPR = 0.65: 100.0 %\n",
            "Mean TPR at FPR = 0.7000000000000001: 100.0 %\n",
            "Mean TPR at FPR = 0.75: 100.0 %\n",
            "Mean TPR at FPR = 0.8: 100.0 %\n",
            "Mean TPR at FPR = 0.8500000000000001: 100.0 %\n",
            "Mean TPR at FPR = 0.9: 100.0 %\n",
            "Mean TPR at FPR = 0.9500000000000001: 100.0 %\n"
          ],
          "name": "stdout"
        }
      ]
    },
    {
      "cell_type": "markdown",
      "metadata": {
        "id": "SprpxqY-RnD4"
      },
      "source": [
        "We can see at 60% FPR we converge to a 100% TPR. This might not always be true, however we can clearly see that TPR converges very quickly. Thus we can afford to set **N = .55** to make it a little better for the customer. You can set it lower to make it better for the customer if you want to.\r\n",
        "\r\n",
        "\r\n",
        "Keep in mind, this only affects how we evaluate this model. Thus, since we have already selected the algorithm to use, the selected N is to be used in future evaluation of this model. \r\n"
      ]
    },
    {
      "cell_type": "code",
      "metadata": {
        "id": "sBrV9zu7TZkA"
      },
      "source": [
        "desiredFPR = .55"
      ],
      "execution_count": 111,
      "outputs": []
    },
    {
      "cell_type": "markdown",
      "metadata": {
        "id": "AAGBYGhUVWX8"
      },
      "source": [
        "Final Evaluation of our selected random forest model"
      ]
    },
    {
      "cell_type": "code",
      "metadata": {
        "colab": {
          "base_uri": "https://localhost:8080/"
        },
        "id": "cIvAK-CeVWA3",
        "outputId": "50d40bf0-9f3f-48ca-b32e-7b7007953b25"
      },
      "source": [
        "RF = RandomForestClassifier(n_estimators=250, max_depth=12,random_state=1,min_samples_leaf=1)\r\n",
        "RF.fit(X_train, y_train)\r\n",
        "y_pred = RF.predict_proba(X_test)[:,1]\r\n",
        "\r\n",
        "print(\"Test set AUC: \", roc_auc_score(y_test,y_pred))\r\n",
        "tprAtDesiredFPR,fpr,tpr = tprAtFPR(y_test,y_pred,desiredFPR)\r\n",
        "\r\n",
        "print(f'Mean TPR at FPR = {desiredFPR}: {tprAtDesiredFPR*100} %')"
      ],
      "execution_count": 112,
      "outputs": [
        {
          "output_type": "stream",
          "text": [
            "Test set AUC:  0.927226570763698\n",
            "Mean TPR at FPR = 0.55: 97.70114942528735 %\n"
          ],
          "name": "stdout"
        }
      ]
    },
    {
      "cell_type": "markdown",
      "metadata": {
        "id": "d8kniW3KXJHa"
      },
      "source": [
        "# **Analysis of Classification with Dimensionality Reduction**\r\n",
        "\r\n",
        "We should do all of the dimensionality reduction analysis along with the algorithm selection, as it could make a different algorithm out perform another.\r\n",
        "\r\n",
        "However, I am just going to analyze the impact of dimensionality reduction with just the selected algorithm to save time.\r\n",
        "\r\n"
      ]
    },
    {
      "cell_type": "markdown",
      "metadata": {
        "id": "Tpudxkl_Si1I"
      },
      "source": [
        "We can see in the Feature Importance plot, feature3 seems to be very insignificant. Let's see if dropping helps our model"
      ]
    },
    {
      "cell_type": "code",
      "metadata": {
        "colab": {
          "base_uri": "https://localhost:8080/"
        },
        "id": "d7505e5dPT1c",
        "outputId": "b0ed0829-a385-4922-b9f5-1810c4e21581"
      },
      "source": [
        "reduced_df = df.drop(['feature3'],axis=1)\r\n",
        "features, labels, X_train, X_test, y_train, y_test = split_and_norm(reduced_df)\r\n",
        "\r\n",
        "RF = RandomForestClassifier(n_estimators=250, max_depth=12,random_state=1,min_samples_leaf=1)\r\n",
        "RF.fit(X_train, y_train)\r\n",
        "y_pred = RF.predict_proba(X_test)[:,1]\r\n",
        "tprAtDesiredFPR,fpr,tpr = tprAtFPR(y_test,y_pred,desiredFPR)\r\n",
        "print(\"Test set AUC: \", roc_auc_score(y_test,y_pred))\r\n",
        "print(f'Mean TPR at FPR = {desiredFPR}: {tprAtDesiredFPR*100} %')"
      ],
      "execution_count": 113,
      "outputs": [
        {
          "output_type": "stream",
          "text": [
            "Test set AUC:  0.923418658768775\n",
            "Mean TPR at FPR = 0.55: 97.70114942528735 %\n"
          ],
          "name": "stdout"
        }
      ]
    },
    {
      "cell_type": "markdown",
      "metadata": {
        "id": "hQwY-fdyVPjF"
      },
      "source": [
        "As you can see by the AUC (under the ROC) score, removing the least important  "
      ]
    },
    {
      "cell_type": "markdown",
      "metadata": {
        "id": "MQU8rMlRxvEv"
      },
      "source": [
        "# **Misc Code**"
      ]
    },
    {
      "cell_type": "markdown",
      "metadata": {
        "id": "MizgQIVFx9DM"
      },
      "source": [
        "## Functionalized Plots"
      ]
    },
    {
      "cell_type": "code",
      "metadata": {
        "id": "TqjljYyEyERu"
      },
      "source": [
        "def segment_data(df):\r\n",
        "    # should be called only after all preprocessing & calculations have been done and you just need to segment the dataframe for plotting\r\n",
        "    myf = df.copy()\r\n",
        "    myf['change'] = myf.color.ne(myf.color.shift().bfill()).astype(int)\r\n",
        "    myf['subgroup'] = myf['change'].cumsum()\r\n",
        "    myf.index += myf['subgroup'].values\r\n",
        "    \r\n",
        "    first_i_of_each_group = myf[myf['change'] == 1].index\r\n",
        "    for i in first_i_of_each_group:\r\n",
        "        myf.loc[i-1] = myf.loc[i]\r\n",
        "        myf.loc[i-1, 'subgroup'] = myf.loc[i-2, 'subgroup']\r\n",
        "    myf.drop('change', axis=1, inplace=True)\r\n",
        "    myf.sort_index(inplace=True)\r\n",
        "    \r\n",
        "    # Create duplicate indexes at each subgroup border to ensure the plot is continuous.\r\n",
        "    myf.index -= myf['subgroup'].values\r\n",
        "    return myf\r\n",
        "    \r\n",
        "\r\n",
        "def plot_vehicle(myf):\r\n",
        "    # Input: A segmented dataframe output by segment_data\r\n",
        "    bounds = [0, .1, 5, 10, 15, 25, df.speed.max()]\r\n",
        "    fig, ax = plt.subplots()\r\n",
        "    \r\n",
        "    for k, g in myf.groupby('subgroup'):\r\n",
        "        g[['x','y']].plot(ax=ax,x='x', y='y', color=g['color'].values[0],legend=None)\r\n",
        "    stop_df = myf.loc[myf.avg_speed < .1]\r\n",
        "    \r\n",
        "    # plot turns with an x\r\n",
        "    plt.scatter(myf.loc[myf.turn]['x'].values,myf.loc[myf.turn]['y'].values,s = 60,marker='x',c = myf.loc[myf.turn]['color'].values,label = 'turns')\r\n",
        "    plt.scatter(stop_df['x'].values,stop_df['y'].values,s = 25,marker='o',c = stop_df['color'].values,label='stops') # plot stops with an o\r\n",
        "    \r\n",
        "    # need to do some weird stuff to get around pandas plotting flooding my legend (nothing else seemed to work)\r\n",
        "    x_marker = mlines.Line2D([], [], marker='x', linestyle='None', markersize=10, label='turns')\r\n",
        "    o_marker = mlines.Line2D([], [], marker='o', linestyle='None', markersize=10, label='stops')\r\n",
        "    ax.legend(handles=[x_marker, o_marker])\r\n",
        "    \r\n",
        "    cmap = matplotlib.colors.ListedColormap(['black','firebrick','gold','forestgreen','royalblue','navy'])\r\n",
        "    norm = matplotlib.colors.BoundaryNorm(bounds, cmap.N)\r\n",
        "    \r\n",
        "    sm = plt.cm.ScalarMappable(cmap=cmap, norm=norm)\r\n",
        "    fig.colorbar(sm,ax=ax,boundaries= bounds,spacing='uniform',ticks=bounds,label='Speed in meters per second')\r\n",
        "    \r\n",
        "    plt.xlabel('Longitude')\r\n",
        "    plt.ylabel('Latitude')\r\n",
        "    plt.title('Vehicle Movement During Trip')\r\n",
        "    \r\n",
        "    plt.show()\r\n",
        "\r\n",
        "# process and plot a dataframe\r\n",
        "def process_plot(filename):\r\n",
        "    # Input: filename with path\r\n",
        "    df = read_trip_data(filename)\r\n",
        "    df.reset_index(drop=True,inplace=True)\r\n",
        "    \r\n",
        "    dist_traveled = [0]  # distance traveled (in meters) from the last time point\r\n",
        "    \r\n",
        "    for i in range(1,len(df)):\r\n",
        "        # lets use the average of the 2 time points as the true speed between each second in the time series\r\n",
        "        t = abs(df.iloc[i].time - df.iloc[i-1].time) # difference in time\r\n",
        "        s = (df.iloc[i].speed + df.iloc[i-1].speed)/2 # average speed\r\n",
        "    \r\n",
        "        dist_traveled.append(t*s)\r\n",
        "        \r\n",
        "    df['distance'] = dist_traveled\r\n",
        "    df['total_distance'] = df['distance'].cumsum() # distance is in meters\r\n",
        "    \r\n",
        "    df['x'] = (df.bearing.apply(lambda x: math.cos(math.radians(x))) * df.distance).cumsum()\r\n",
        "    df['y'] = (df.bearing.apply(lambda x: math.sin(math.radians(x))) * df.distance).cumsum()\r\n",
        "    # In order to compare theta's respectively we must take the shortest relative path to an angle.\r\n",
        "    # Otherwise the distance between the angles 5 and 355 is 350, instead of 10\r\n",
        "    df['relative_bearing'] = df.bearing.apply(lambda x: 360-x if x > 180 else x)\r\n",
        "    \r\n",
        "    avg_theta = []\r\n",
        "    avg_speed = []\r\n",
        "    turns = []\r\n",
        "    last_i = 0\r\n",
        "    for i,x in enumerate(df.time):\r\n",
        "        subset= df.loc[(df.time <= x) & (df.time >= x-2)] # include the points own data and the last 2 seconds of data for a 3 second window\r\n",
        "        avg_theta.append(subset.relative_bearing.mean())\r\n",
        "        avg_speed.append(subset.speed.mean())\r\n",
        "        if any(abs(avg_theta[last_i:i]-df.iloc[i].relative_bearing)>60): # if I don't use the average bearing I can get the perfect amount of turns as stated\r\n",
        "                                                                # however this approach won't generalize well \r\n",
        "            last_i = i\r\n",
        "            turns.append(last_i)\r\n",
        "            \r\n",
        "    df['avg_bearing'] = avg_theta\r\n",
        "    df['avg_speed'] = avg_speed\r\n",
        "    \r\n",
        "    stops = 0\r\n",
        "    idx = df.index[df.avg_speed < .1]\r\n",
        "    if len(idx) > 0:\r\n",
        "        stops += 1 # at least 1 so far\r\n",
        "        diffs = np.diff(idx) # compute distances between each index, to find where we have no consecutive indicies, which indicate a different stop\r\n",
        "        # An advantage to this approach is that we can consider any amount of non-consecutive points not break a chain of a stop (change > 1 to any number)\r\n",
        "        unique_indx = np.argwhere(diffs > 1).ravel()\r\n",
        "        stops += len(unique_indx)\r\n",
        "        \r\n",
        "    # create useful columns for plotting\r\n",
        "    t = []\r\n",
        "    for i in range(len(df)):\r\n",
        "        if i in turns:\r\n",
        "            t.append(True)\r\n",
        "        else:\r\n",
        "            t.append(False)\r\n",
        "    df['turn'] = t\r\n",
        "    \r\n",
        "    colors=[]\r\n",
        "    for x in df.avg_speed:\r\n",
        "        if x < .1: colors.append('black')\r\n",
        "        elif x < 5: colors.append('firebrick')\r\n",
        "        elif x < 10: colors.append('gold')\r\n",
        "        elif x < 15: colors.append('forestgreen')\r\n",
        "        elif x < 25: colors.append('royalblue')\r\n",
        "        else: colors.append('navy')\r\n",
        "    df['color'] = colors\r\n",
        "    \r\n",
        "    \r\n",
        "    myf = segment_data(df) # prep for plotting\r\n",
        "    plot_vehicle(myf)\r\n",
        "    "
      ],
      "execution_count": 97,
      "outputs": []
    },
    {
      "cell_type": "markdown",
      "metadata": {
        "id": "uANEA4cUxyoS"
      },
      "source": [
        "## Animated Plot Code"
      ]
    },
    {
      "cell_type": "code",
      "metadata": {
        "id": "yWqFQkR8x3po"
      },
      "source": [
        "import matplotlib.animation as animation\r\n",
        "\r\n",
        "Writer = animation.writers['ffmpeg']\r\n",
        "writer = Writer(fps=30, metadata=dict(artist='Me'), bitrate=1800)\r\n",
        "\r\n",
        "dff = df.head(len(df)//2)\r\n",
        "myff = segment_data(dff)\r\n",
        "# stop_df = myff.loc[myff.avg_speed < .1]\r\n",
        "\r\n",
        "\r\n",
        "fig,ax = plt.subplots()\r\n",
        "\r\n",
        "\r\n",
        "plt.xlim(dff.x.min()*.9, dff.x.max()*1.1)\r\n",
        "plt.ylim(dff.y.min()*.9, dff.y.max()*1.1)\r\n",
        "\r\n",
        "cmap = matplotlib.colors.ListedColormap(['black','firebrick','gold','forestgreen','royalblue','navy'])\r\n",
        "norm = matplotlib.colors.BoundaryNorm(bounds, cmap.N)\r\n",
        "\r\n",
        "sm = plt.cm.ScalarMappable(cmap=cmap, norm=norm)\r\n",
        "fig.colorbar(sm,ax=ax,boundaries= bounds,spacing='uniform',ticks=bounds,label='Speed in meters per second')\r\n",
        "\r\n",
        "plt.xlabel('Longitude')\r\n",
        "plt.ylabel('Latitude')\r\n",
        "plt.title('Vehicle Movement During Trip')\r\n",
        "\r\n",
        "def animate(i):\r\n",
        "    print(i)\r\n",
        "    #fig,ax = plt.subplots()\r\n",
        "    data = myff.iloc[:int(i+1)] #select data range\r\n",
        "    for k, g in data.groupby('subgroup'):\r\n",
        "       g[['x','y']].plot(ax=ax,x='x', y='y', color=g['color'].values[0])\r\n",
        "    #plt.plot(data.x, data.y, color=data['color'].values[0], marker='o')\r\n",
        "\r\n",
        "    ax.legend_.remove()\r\n",
        "    \r\n",
        "ani = matplotlib.animation.FuncAnimation(fig, animate, frames=312, repeat=False)\r\n",
        "\r\n",
        "ani.save('test_graph.mp4', writer=writer)"
      ],
      "execution_count": null,
      "outputs": []
    }
  ]
}